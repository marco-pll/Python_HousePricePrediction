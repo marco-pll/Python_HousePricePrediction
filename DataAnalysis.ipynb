{
 "cells": [
  {
   "cell_type": "markdown",
   "id": "27229423-8f23-4cf5-8f98-112a810c1141",
   "metadata": {},
   "source": [
    "# Data analysis on \"\" data.\n",
    "The objective of the following analysis is to ..."
   ]
  },
  {
   "cell_type": "code",
   "execution_count": null,
   "id": "c4102826-ed21-4947-9258-845414f66768",
   "metadata": {},
   "outputs": [],
   "source": []
  }
 ],
 "metadata": {
  "kernelspec": {
   "display_name": "MLenv",
   "language": "python",
   "name": "mlenv"
  },
  "language_info": {
   "codemirror_mode": {
    "name": "ipython",
    "version": 3
   },
   "file_extension": ".py",
   "mimetype": "text/x-python",
   "name": "python",
   "nbconvert_exporter": "python",
   "pygments_lexer": "ipython3",
   "version": "3.12.1"
  }
 },
 "nbformat": 4,
 "nbformat_minor": 5
}
