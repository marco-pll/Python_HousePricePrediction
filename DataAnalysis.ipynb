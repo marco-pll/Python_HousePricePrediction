{
 "cells": [
  {
   "cell_type": "markdown",
   "id": "27229423-8f23-4cf5-8f98-112a810c1141",
   "metadata": {},
   "source": [
    "# Data analysis on \"Immobiliare.it\" data.\n",
    "After some feature engineering and exploratory analysis, different models will be tried to identify the logic that will best fit the task."
   ]
  },
  {
   "cell_type": "markdown",
   "id": "7aac15e1-9460-49cb-bb21-917b7fd0763c",
   "metadata": {},
   "source": [
    "## Feature exploration\n",
    "The data will be loaded and the features explored."
   ]
  },
  {
   "cell_type": "code",
   "execution_count": 49,
   "id": "8a46c452-f67b-44d3-89a5-e3088d768a00",
   "metadata": {},
   "outputs": [],
   "source": [
    "# Importing the necessary libraries\n",
    "import pandas as pd\n",
    "import numpy as np\n",
    "import datetime as dt\n",
    "import matplotlib as plt\n",
    "import re"
   ]
  },
  {
   "cell_type": "code",
   "execution_count": 2,
   "id": "19aae12c-972b-4ac0-8607-52a9925141d3",
   "metadata": {},
   "outputs": [],
   "source": [
    "houses = pd.read_csv(\"DATA/casemilano.csv\", encoding='unicode_escape')"
   ]
  },
  {
   "cell_type": "code",
   "execution_count": 3,
   "id": "b7c64576-7ced-469a-937f-32cd539dd246",
   "metadata": {},
   "outputs": [],
   "source": [
    "#Missing data will be removed\n",
    "#This leads to lose about 35% of observations, but it must be done, as the variables with missing values are important ones, and cannot be excluded.\n",
    "houses.dropna(inplace=True)"
   ]
  },
  {
   "cell_type": "code",
   "execution_count": 4,
   "id": "a1113140-b7fc-4853-826b-9d56336178dc",
   "metadata": {},
   "outputs": [
    {
     "data": {
      "text/plain": [
       "(7297, 18)"
      ]
     },
     "execution_count": 4,
     "metadata": {},
     "output_type": "execute_result"
    }
   ],
   "source": [
    "houses.shape"
   ]
  },
  {
   "cell_type": "code",
   "execution_count": 5,
   "id": "a9b11ed9-174e-4b8c-993c-a90c61c243e1",
   "metadata": {},
   "outputs": [],
   "source": [
    "#Functions used to clean observations.\n",
    "\n",
    "#This function is not important\n",
    "def lotShared(x):\n",
    "    return x in sharedALot\n",
    "\n",
    "#THis functions replaces \"pattern\" with \"sub\".\n",
    "def removePattern(x, pattern, sub):\n",
    "    return str(x).replace(pattern, sub)\n",
    "    \n"
   ]
  },
  {
   "cell_type": "markdown",
   "id": "370859e5-bd34-45f6-9aee-c59c9e35b3d9",
   "metadata": {},
   "source": [
    "### Feature cleaning"
   ]
  },
  {
   "cell_type": "markdown",
   "id": "8857e0a8-e8f0-47a3-9d2b-9b0ab62521a3",
   "metadata": {},
   "source": [
    "The following chunks will be use for feature cleaning and engineering."
   ]
  },
  {
   "cell_type": "code",
   "execution_count": 6,
   "id": "8509654c-5400-4f5f-88d0-bb40f9421d51",
   "metadata": {},
   "outputs": [],
   "source": [
    "# The features will be cleaned.\n",
    "\n",
    "#Features eliminated\n",
    "houses = houses.drop('w', axis=1) #It's a constant variable\n",
    "houses = houses.drop(\"s\", axis=1) #It's unclear the meaning of the variable\n",
    "\n",
    "#Ascensore recoded.\n",
    "houses.loc[houses[\"ascensore\"] == \"no\", \"ascensore\"] = 0\n",
    "houses.loc[houses[\"ascensore\"] != 0, \"ascensore\"] = 1\n",
    "houses[\"ascensore\"] = houses[\"ascensore\"].astype(np.int8)\n",
    "\n",
    "#Parking: more than 2 in shared parking space are merged in \"aLotShared\".\n",
    "sharedALot = houses[\"parcheggio\"].value_counts().loc[houses[\"parcheggio\"].value_counts() <=5].index\n",
    "houses.loc[houses[\"parcheggio\"].apply(lotShared),\"parcheggio\"] = \"aLotShared\"\n",
    "houses[\"parcheggio\"] = houses[\"parcheggio\"].astype(str)\n",
    "\n",
    "#Features made character. The dtype remain \"object\"\n",
    "houses[\"numero.bagni\"] = houses[\"numero.bagni\"].astype(str)\n",
    "houses[\"numero.stanze\"] = houses[\"numero.stanze\"].astype(str)\n",
    "\n",
    "#Features made numeric\n",
    "houses.loc[houses[\"numero.totale.piani.edificio\"] == \"1 piano\", \"numero.totale.piani.edificio\"] = 1\n",
    "houses[\"numero.totale.piani.edificio\"] = houses[\"numero.totale.piani.edificio\"].astype(np.int8)"
   ]
  },
  {
   "cell_type": "markdown",
   "id": "aeeed19b-4861-4949-8082-2b7ef1c23c26",
   "metadata": {},
   "source": [
    "The following are specific changes made to the variable \"disponibile\". The new version is measured in \"days from now\", and is a measure of when, in the future, the house will be available."
   ]
  },
  {
   "cell_type": "code",
   "execution_count": 7,
   "id": "f3b0bfc9-7cda-4566-b6bb-5be9ba749fb8",
   "metadata": {},
   "outputs": [],
   "source": [
    "#The variable disponibile has been converted to \"days from the first one\".\n",
    "houses.loc[:,\"disponibile\"] = houses[\"disponibile\"].apply(removePattern, args = (\"disponibile dal \",\"\"))\n",
    "houses.loc[:,\"disponibile\"] = houses[\"disponibile\"].apply(removePattern, args = (\"disponibile\", \"\"))"
   ]
  },
  {
   "cell_type": "code",
   "execution_count": 8,
   "id": "e511f68c-fdf9-46a8-940a-33727476baed",
   "metadata": {},
   "outputs": [],
   "source": [
    "#Houses with disponibilità > 0 become datetime tipe.\n",
    "houses.loc[houses[\"disponibile\"] != \"\",\"disponibile\"] = pd.to_datetime(houses.loc[houses[\"disponibile\"] != \"\",\"disponibile\"], format = \"%d/%m/%Y\")"
   ]
  },
  {
   "cell_type": "code",
   "execution_count": 9,
   "id": "7004c90a-431f-482c-a2fa-d4f1d58fab57",
   "metadata": {},
   "outputs": [],
   "source": [
    "#Determine the strating point (smallest date - 1 day).\n",
    "start_time = houses.loc[houses[\"disponibile\"] != \"\",\"disponibile\"].min() - dt.timedelta(days=1)"
   ]
  },
  {
   "cell_type": "code",
   "execution_count": 10,
   "id": "4496b527-4e36-46fe-a442-a25e4bff8a47",
   "metadata": {},
   "outputs": [],
   "source": [
    "#Assegnare ai \"disponibili\" il valore iniziale\n",
    "houses.loc[houses[\"disponibile\"] == \"\",\"disponibile\"] = start_time"
   ]
  },
  {
   "cell_type": "code",
   "execution_count": 11,
   "id": "34f8889f-17e4-4666-be01-1572077e067a",
   "metadata": {},
   "outputs": [],
   "source": [
    "#Rendere a series di dtype \"date\" e togliere il valore iniziale.\n",
    "houses[\"disponibile\"] = pd.to_datetime(houses[\"disponibile\"])"
   ]
  },
  {
   "cell_type": "code",
   "execution_count": 12,
   "id": "593b9e48-992d-4f53-a5a5-3a549a14f17a",
   "metadata": {},
   "outputs": [],
   "source": [
    "#Togliere il giorno iniziale\n",
    "houses[\"disponibile\"] = pd.to_numeric(houses[\"disponibile\"] - start_time)"
   ]
  },
  {
   "cell_type": "code",
   "execution_count": 13,
   "id": "fe4eb232-18dd-4f62-a5a0-f7b19ee1a2a3",
   "metadata": {},
   "outputs": [
    {
     "data": {
      "text/html": [
       "<div>\n",
       "<style scoped>\n",
       "    .dataframe tbody tr th:only-of-type {\n",
       "        vertical-align: middle;\n",
       "    }\n",
       "\n",
       "    .dataframe tbody tr th {\n",
       "        vertical-align: top;\n",
       "    }\n",
       "\n",
       "    .dataframe thead th {\n",
       "        text-align: right;\n",
       "    }\n",
       "</style>\n",
       "<table border=\"1\" class=\"dataframe\">\n",
       "  <thead>\n",
       "    <tr style=\"text-align: right;\">\n",
       "      <th></th>\n",
       "      <th>prezzo</th>\n",
       "      <th>metri.quadrati</th>\n",
       "      <th>numero.bagni</th>\n",
       "      <th>ascensore</th>\n",
       "      <th>numero.stanze</th>\n",
       "      <th>altre.caratteristiche</th>\n",
       "      <th>numero.totale.piani.edificio</th>\n",
       "      <th>parcheggio</th>\n",
       "      <th>disponibile</th>\n",
       "      <th>spese.condominiali</th>\n",
       "      <th>anno.di. Costruzione</th>\n",
       "      <th>condizioni</th>\n",
       "      <th>zona</th>\n",
       "      <th>piano</th>\n",
       "      <th>riscaldamento.centralizzato</th>\n",
       "      <th>classe.di.efficienza.energetica</th>\n",
       "    </tr>\n",
       "  </thead>\n",
       "  <tbody>\n",
       "    <tr>\n",
       "      <th>1</th>\n",
       "      <td>500000.0</td>\n",
       "      <td>57.0</td>\n",
       "      <td>1</td>\n",
       "      <td>1</td>\n",
       "      <td>2</td>\n",
       "      <td>fibra ottica | videocitofono | sistema d'allar...</td>\n",
       "      <td>7</td>\n",
       "      <td>1 in garage/box</td>\n",
       "      <td>0</td>\n",
       "      <td>nessun costo condominiale</td>\n",
       "      <td>2010.0</td>\n",
       "      <td>eccellente / restaurato</td>\n",
       "      <td>porta romana - medaglie d'oro</td>\n",
       "      <td>1</td>\n",
       "      <td>centralizzato</td>\n",
       "      <td>e</td>\n",
       "    </tr>\n",
       "    <tr>\n",
       "      <th>2</th>\n",
       "      <td>395000.0</td>\n",
       "      <td>92.0</td>\n",
       "      <td>1</td>\n",
       "      <td>1</td>\n",
       "      <td>3</td>\n",
       "      <td>cancello elettrico | fibra ottica | videocitof...</td>\n",
       "      <td>8</td>\n",
       "      <td>no</td>\n",
       "      <td>0</td>\n",
       "      <td>200</td>\n",
       "      <td>1960.0</td>\n",
       "      <td>eccellente / restaurato</td>\n",
       "      <td>gallaratese</td>\n",
       "      <td>1</td>\n",
       "      <td>centralizzato</td>\n",
       "      <td>e</td>\n",
       "    </tr>\n",
       "    <tr>\n",
       "      <th>4</th>\n",
       "      <td>199000.0</td>\n",
       "      <td>38.0</td>\n",
       "      <td>1</td>\n",
       "      <td>0</td>\n",
       "      <td>1</td>\n",
       "      <td>fibra ottica | porta di sicurezza | esposizion...</td>\n",
       "      <td>4</td>\n",
       "      <td>no</td>\n",
       "      <td>0</td>\n",
       "      <td>80</td>\n",
       "      <td>1930.0</td>\n",
       "      <td>eccellente / restaurato</td>\n",
       "      <td>navigli - darsena</td>\n",
       "      <td>1</td>\n",
       "      <td>indipendente</td>\n",
       "      <td>g</td>\n",
       "    </tr>\n",
       "    <tr>\n",
       "      <th>5</th>\n",
       "      <td>299000.0</td>\n",
       "      <td>45.0</td>\n",
       "      <td>1</td>\n",
       "      <td>0</td>\n",
       "      <td>1</td>\n",
       "      <td>cancello elettrico | fibra ottica | porta di s...</td>\n",
       "      <td>5</td>\n",
       "      <td>no</td>\n",
       "      <td>0</td>\n",
       "      <td>100</td>\n",
       "      <td>1911.0</td>\n",
       "      <td>buone condizioni /vivibile</td>\n",
       "      <td>porta romana - medaglie d'oro</td>\n",
       "      <td>1</td>\n",
       "      <td>centralizzato</td>\n",
       "      <td>g</td>\n",
       "    </tr>\n",
       "    <tr>\n",
       "      <th>9</th>\n",
       "      <td>1290000.0</td>\n",
       "      <td>170.0</td>\n",
       "      <td>2</td>\n",
       "      <td>1</td>\n",
       "      <td>4</td>\n",
       "      <td>porta di sicurezza | terrazza | terrazza |port...</td>\n",
       "      <td>6</td>\n",
       "      <td>no</td>\n",
       "      <td>0</td>\n",
       "      <td>500</td>\n",
       "      <td>1970.0</td>\n",
       "      <td>buone condizioni /vivibile</td>\n",
       "      <td>de angeli</td>\n",
       "      <td>6</td>\n",
       "      <td>centralizzato</td>\n",
       "      <td>g</td>\n",
       "    </tr>\n",
       "  </tbody>\n",
       "</table>\n",
       "</div>"
      ],
      "text/plain": [
       "      prezzo  metri.quadrati numero.bagni  ascensore numero.stanze  \\\n",
       "1   500000.0            57.0            1          1             2   \n",
       "2   395000.0            92.0            1          1             3   \n",
       "4   199000.0            38.0            1          0             1   \n",
       "5   299000.0            45.0            1          0             1   \n",
       "9  1290000.0           170.0            2          1             4   \n",
       "\n",
       "                               altre.caratteristiche  \\\n",
       "1  fibra ottica | videocitofono | sistema d'allar...   \n",
       "2  cancello elettrico | fibra ottica | videocitof...   \n",
       "4  fibra ottica | porta di sicurezza | esposizion...   \n",
       "5  cancello elettrico | fibra ottica | porta di s...   \n",
       "9  porta di sicurezza | terrazza | terrazza |port...   \n",
       "\n",
       "   numero.totale.piani.edificio       parcheggio  disponibile  \\\n",
       "1                             7  1 in garage/box            0   \n",
       "2                             8               no            0   \n",
       "4                             4               no            0   \n",
       "5                             5               no            0   \n",
       "9                             6               no            0   \n",
       "\n",
       "          spese.condominiali  anno.di. Costruzione  \\\n",
       "1  nessun costo condominiale                2010.0   \n",
       "2                        200                1960.0   \n",
       "4                         80                1930.0   \n",
       "5                        100                1911.0   \n",
       "9                        500                1970.0   \n",
       "\n",
       "                   condizioni                           zona piano  \\\n",
       "1     eccellente / restaurato  porta romana - medaglie d'oro     1   \n",
       "2     eccellente / restaurato                    gallaratese     1   \n",
       "4     eccellente / restaurato              navigli - darsena     1   \n",
       "5  buone condizioni /vivibile  porta romana - medaglie d'oro     1   \n",
       "9  buone condizioni /vivibile                      de angeli     6   \n",
       "\n",
       "  riscaldamento.centralizzato classe.di.efficienza.energetica  \n",
       "1               centralizzato                               e  \n",
       "2               centralizzato                               e  \n",
       "4                indipendente                               g  \n",
       "5               centralizzato                               g  \n",
       "9               centralizzato                               g  "
      ]
     },
     "execution_count": 13,
     "metadata": {},
     "output_type": "execute_result"
    }
   ],
   "source": [
    "houses.head()"
   ]
  },
  {
   "cell_type": "code",
   "execution_count": 19,
   "id": "9ea4f56d-ac6f-4ab1-8b33-4160959d6f66",
   "metadata": {},
   "outputs": [],
   "source": [
    "#Spese condominiali has been made numeric.\n",
    "houses.loc[houses[\"spese.condominiali\"] == \"nessun costo condominiale\", \"spese.condominiali\"] = 0\n",
    "houses[\"spese.condominiali\"] = pd.to_numeric(houses[\"spese.condominiali\"])"
   ]
  },
  {
   "cell_type": "code",
   "execution_count": 25,
   "id": "1ba311f6-161b-4312-b6b6-0dbeac78adc1",
   "metadata": {},
   "outputs": [],
   "source": [
    "#condizioni has been made made string.\n",
    "houses[\"condizioni\"] = houses[\"condizioni\"].astype(str)"
   ]
  },
  {
   "cell_type": "code",
   "execution_count": 27,
   "id": "3e803e57-9195-48f2-893d-ad3f1b2f599b",
   "metadata": {},
   "outputs": [],
   "source": [
    "houses[\"zona\"] = houses[\"zona\"].astype(str)"
   ]
  },
  {
   "cell_type": "code",
   "execution_count": 29,
   "id": "a714e27e-c910-4483-81b4-ee70cba13092",
   "metadata": {},
   "outputs": [],
   "source": [
    "houses[\"piano\"] = houses[\"piano\"].astype(str)"
   ]
  },
  {
   "cell_type": "code",
   "execution_count": 31,
   "id": "21205c3b-2e94-417e-87d4-93fb63703635",
   "metadata": {},
   "outputs": [],
   "source": [
    "houses[\"riscaldamento.centralizzato\"] = houses[\"riscaldamento.centralizzato\"].astype(str)"
   ]
  },
  {
   "cell_type": "code",
   "execution_count": 32,
   "id": "b5d3963b-46d1-4cc9-ad05-1dab78ab72a2",
   "metadata": {},
   "outputs": [],
   "source": [
    "houses[\"classe.di.efficienza.energetica\"] = houses[\"classe.di.efficienza.energetica\"].astype(str)"
   ]
  },
  {
   "cell_type": "markdown",
   "id": "38c00cd2-b21d-4925-ab1d-e244fb396f8c",
   "metadata": {},
   "source": [
    "The following is dedicated to \"altre.caratteristiche\". Each characteristic has been made a specific feature of a house."
   ]
  },
  {
   "cell_type": "code",
   "execution_count": 47,
   "id": "fb25ff94-d27d-46cd-92b2-a0efac73dd31",
   "metadata": {},
   "outputs": [
    {
     "data": {
      "text/plain": [
       "['fibra ottica',\n",
       " 'videocitofono',\n",
       " \"sistema d'allarme\",\n",
       " 'porta di sicurezza',\n",
       " 'esposizione esterna',\n",
       " 'guardaroba |portinaio mezza giornata',\n",
       " 'sistema televisivo centralizzato',\n",
       " 'parzialmente arredato|infissi esterni in doppio vetro / pvc']"
      ]
     },
     "execution_count": 47,
     "metadata": {},
     "output_type": "execute_result"
    }
   ],
   "source": [
    "houses[\"altre.caratteristiche\"].iloc[0].split(\"\\s|\\s\", maxsplit=-1)"
   ]
  },
  {
   "cell_type": "code",
   "execution_count": 55,
   "id": "f8601eb9-ebed-43b0-86ac-4adfd635ee34",
   "metadata": {},
   "outputs": [],
   "source": [
    "def splitString (string, split):\n",
    "    return re.split(split,string)"
   ]
  },
  {
   "cell_type": "code",
   "execution_count": null,
   "id": "fa9721b3-f392-4659-98f3-0bbbfb988eee",
   "metadata": {},
   "outputs": [
    {
     "data": {
      "text/plain": [
       "['fibra ottica',\n",
       " 'videocitofono',\n",
       " \"sistema d'allarme\",\n",
       " 'porta di sicurezza',\n",
       " 'esposizione esterna',\n",
       " 'guardaroba',\n",
       " 'portinaio mezza giornata',\n",
       " 'sistema televisivo centralizzato',\n",
       " 'parzialmente arredato',\n",
       " 'infissi esterni in doppio vetro / pvc']"
      ]
     },
     "execution_count": 53,
     "metadata": {},
     "output_type": "execute_result"
    }
   ],
   "source": [
    "re.split(r\"\\s*\\|\\s*\",houses[\"altre.caratteristiche\"].iloc[0])"
   ]
  },
  {
   "cell_type": "code",
   "execution_count": 66,
   "id": "c692ea8d-29c0-4642-b77e-88a7e9cc7f23",
   "metadata": {},
   "outputs": [
    {
     "data": {
      "text/plain": [
       "{'cantina',\n",
       " 'doppia esposizione',\n",
       " 'fibra ottica',\n",
       " 'guardaroba',\n",
       " 'infissi esterni in doppio vetro / pvc',\n",
       " 'parzialmente arredato',\n",
       " 'porta di sicurezza',\n",
       " 'sistema televisivo centralizzato',\n",
       " 'terrazza',\n",
       " 'videocitofono'}"
      ]
     },
     "execution_count": 66,
     "metadata": {},
     "output_type": "execute_result"
    }
   ],
   "source": [
    "set(splitString(houses[\"altre.caratteristiche\"].iloc[400],r\"\\s*\\|\\s*\"))"
   ]
  },
  {
   "cell_type": "code",
   "execution_count": 70,
   "id": "952c1c54-79ec-4754-9c74-129e5c1b78d1",
   "metadata": {},
   "outputs": [],
   "source": [
    "#A cycle to get all the single other attributes of a house.\n",
    "attributes = set()\n",
    "for house in range(0,houses.shape[0]):\n",
    "    attributes.update(set(splitString(houses[\"altre.caratteristiche\"].iloc[house],r\"\\s*\\|\\s*\")))"
   ]
  },
  {
   "cell_type": "code",
   "execution_count": 88,
   "id": "0dcfda70-a1aa-434c-bc85-6c9530eaa06d",
   "metadata": {},
   "outputs": [],
   "source": [
    "#Adding each characteristic as a new feature\n",
    "for feature in attributes:\n",
    "    houses[feature] = 0"
   ]
  },
  {
   "cell_type": "code",
   "execution_count": 90,
   "id": "c32589c5-86c8-4527-b1ce-d7b97761f840",
   "metadata": {},
   "outputs": [],
   "source": [
    "#Each other characteritics: 0 if absent, 1 if present.\n",
    "for house in range(0,houses.shape[0]):\n",
    "    for feature in splitString(houses[\"altre.caratteristiche\"].iloc[house],r\"\\s*\\|\\s*\"):\n",
    "        houses.iloc[house, houses.columns.get_loc(feature)] = 1"
   ]
  },
  {
   "cell_type": "code",
   "execution_count": 102,
   "id": "32892ee1-8a71-43c3-a7f6-2ee3244483eb",
   "metadata": {},
   "outputs": [],
   "source": [
    "houses = houses.drop('altre.caratteristiche', axis=1)"
   ]
  },
  {
   "cell_type": "code",
   "execution_count": 103,
   "id": "421aaddf-630f-4f33-9d7d-9848d3585f40",
   "metadata": {},
   "outputs": [
    {
     "data": {
      "text/html": [
       "<div>\n",
       "<style scoped>\n",
       "    .dataframe tbody tr th:only-of-type {\n",
       "        vertical-align: middle;\n",
       "    }\n",
       "\n",
       "    .dataframe tbody tr th {\n",
       "        vertical-align: top;\n",
       "    }\n",
       "\n",
       "    .dataframe thead th {\n",
       "        text-align: right;\n",
       "    }\n",
       "</style>\n",
       "<table border=\"1\" class=\"dataframe\">\n",
       "  <thead>\n",
       "    <tr style=\"text-align: right;\">\n",
       "      <th></th>\n",
       "      <th>prezzo</th>\n",
       "      <th>metri.quadrati</th>\n",
       "      <th>numero.bagni</th>\n",
       "      <th>ascensore</th>\n",
       "      <th>numero.stanze</th>\n",
       "      <th>numero.totale.piani.edificio</th>\n",
       "      <th>parcheggio</th>\n",
       "      <th>disponibile</th>\n",
       "      <th>spese.condominiali</th>\n",
       "      <th>anno.di. Costruzione</th>\n",
       "      <th>...</th>\n",
       "      <th>guardaroba</th>\n",
       "      <th>portinaio tutto il giorno</th>\n",
       "      <th>infissi esterni in doppio vetro / pvcexposure south</th>\n",
       "      <th>taverna</th>\n",
       "      <th>esposizione esterna</th>\n",
       "      <th>terrazza</th>\n",
       "      <th>parzialmente  arredato</th>\n",
       "      <th>private and giardino condiviso</th>\n",
       "      <th>giardino privato</th>\n",
       "      <th>parzialmente arredato</th>\n",
       "    </tr>\n",
       "  </thead>\n",
       "  <tbody>\n",
       "    <tr>\n",
       "      <th>1</th>\n",
       "      <td>500000.0</td>\n",
       "      <td>57.0</td>\n",
       "      <td>1</td>\n",
       "      <td>1</td>\n",
       "      <td>2</td>\n",
       "      <td>7</td>\n",
       "      <td>1 in garage/box</td>\n",
       "      <td>0</td>\n",
       "      <td>0</td>\n",
       "      <td>2010.0</td>\n",
       "      <td>...</td>\n",
       "      <td>1</td>\n",
       "      <td>0</td>\n",
       "      <td>0</td>\n",
       "      <td>0</td>\n",
       "      <td>1</td>\n",
       "      <td>0</td>\n",
       "      <td>0</td>\n",
       "      <td>0</td>\n",
       "      <td>0</td>\n",
       "      <td>1</td>\n",
       "    </tr>\n",
       "    <tr>\n",
       "      <th>2</th>\n",
       "      <td>395000.0</td>\n",
       "      <td>92.0</td>\n",
       "      <td>1</td>\n",
       "      <td>1</td>\n",
       "      <td>3</td>\n",
       "      <td>8</td>\n",
       "      <td>no</td>\n",
       "      <td>0</td>\n",
       "      <td>200</td>\n",
       "      <td>1960.0</td>\n",
       "      <td>...</td>\n",
       "      <td>1</td>\n",
       "      <td>0</td>\n",
       "      <td>0</td>\n",
       "      <td>0</td>\n",
       "      <td>0</td>\n",
       "      <td>1</td>\n",
       "      <td>0</td>\n",
       "      <td>0</td>\n",
       "      <td>0</td>\n",
       "      <td>0</td>\n",
       "    </tr>\n",
       "    <tr>\n",
       "      <th>4</th>\n",
       "      <td>199000.0</td>\n",
       "      <td>38.0</td>\n",
       "      <td>1</td>\n",
       "      <td>0</td>\n",
       "      <td>1</td>\n",
       "      <td>4</td>\n",
       "      <td>no</td>\n",
       "      <td>0</td>\n",
       "      <td>80</td>\n",
       "      <td>1930.0</td>\n",
       "      <td>...</td>\n",
       "      <td>0</td>\n",
       "      <td>0</td>\n",
       "      <td>0</td>\n",
       "      <td>0</td>\n",
       "      <td>0</td>\n",
       "      <td>0</td>\n",
       "      <td>0</td>\n",
       "      <td>0</td>\n",
       "      <td>0</td>\n",
       "      <td>0</td>\n",
       "    </tr>\n",
       "    <tr>\n",
       "      <th>5</th>\n",
       "      <td>299000.0</td>\n",
       "      <td>45.0</td>\n",
       "      <td>1</td>\n",
       "      <td>0</td>\n",
       "      <td>1</td>\n",
       "      <td>5</td>\n",
       "      <td>no</td>\n",
       "      <td>0</td>\n",
       "      <td>100</td>\n",
       "      <td>1911.0</td>\n",
       "      <td>...</td>\n",
       "      <td>0</td>\n",
       "      <td>0</td>\n",
       "      <td>0</td>\n",
       "      <td>0</td>\n",
       "      <td>0</td>\n",
       "      <td>0</td>\n",
       "      <td>0</td>\n",
       "      <td>0</td>\n",
       "      <td>0</td>\n",
       "      <td>0</td>\n",
       "    </tr>\n",
       "    <tr>\n",
       "      <th>9</th>\n",
       "      <td>1290000.0</td>\n",
       "      <td>170.0</td>\n",
       "      <td>2</td>\n",
       "      <td>1</td>\n",
       "      <td>4</td>\n",
       "      <td>6</td>\n",
       "      <td>no</td>\n",
       "      <td>0</td>\n",
       "      <td>500</td>\n",
       "      <td>1970.0</td>\n",
       "      <td>...</td>\n",
       "      <td>0</td>\n",
       "      <td>0</td>\n",
       "      <td>0</td>\n",
       "      <td>0</td>\n",
       "      <td>0</td>\n",
       "      <td>1</td>\n",
       "      <td>0</td>\n",
       "      <td>0</td>\n",
       "      <td>0</td>\n",
       "      <td>0</td>\n",
       "    </tr>\n",
       "  </tbody>\n",
       "</table>\n",
       "<p>5 rows × 73 columns</p>\n",
       "</div>"
      ],
      "text/plain": [
       "      prezzo  metri.quadrati numero.bagni  ascensore numero.stanze  \\\n",
       "1   500000.0            57.0            1          1             2   \n",
       "2   395000.0            92.0            1          1             3   \n",
       "4   199000.0            38.0            1          0             1   \n",
       "5   299000.0            45.0            1          0             1   \n",
       "9  1290000.0           170.0            2          1             4   \n",
       "\n",
       "   numero.totale.piani.edificio       parcheggio  disponibile  \\\n",
       "1                             7  1 in garage/box            0   \n",
       "2                             8               no            0   \n",
       "4                             4               no            0   \n",
       "5                             5               no            0   \n",
       "9                             6               no            0   \n",
       "\n",
       "   spese.condominiali  anno.di. Costruzione  ... guardaroba  \\\n",
       "1                   0                2010.0  ...          1   \n",
       "2                 200                1960.0  ...          1   \n",
       "4                  80                1930.0  ...          0   \n",
       "5                 100                1911.0  ...          0   \n",
       "9                 500                1970.0  ...          0   \n",
       "\n",
       "  portinaio tutto il giorno  \\\n",
       "1                         0   \n",
       "2                         0   \n",
       "4                         0   \n",
       "5                         0   \n",
       "9                         0   \n",
       "\n",
       "  infissi esterni in doppio vetro / pvcexposure south taverna  \\\n",
       "1                                                  0        0   \n",
       "2                                                  0        0   \n",
       "4                                                  0        0   \n",
       "5                                                  0        0   \n",
       "9                                                  0        0   \n",
       "\n",
       "  esposizione esterna  terrazza  parzialmente  arredato  \\\n",
       "1                   1         0                       0   \n",
       "2                   0         1                       0   \n",
       "4                   0         0                       0   \n",
       "5                   0         0                       0   \n",
       "9                   0         1                       0   \n",
       "\n",
       "   private and giardino condiviso  giardino privato  parzialmente arredato  \n",
       "1                               0                 0                      1  \n",
       "2                               0                 0                      0  \n",
       "4                               0                 0                      0  \n",
       "5                               0                 0                      0  \n",
       "9                               0                 0                      0  \n",
       "\n",
       "[5 rows x 73 columns]"
      ]
     },
     "execution_count": 103,
     "metadata": {},
     "output_type": "execute_result"
    }
   ],
   "source": [
    "#Make dummies."
   ]
  }
 ],
 "metadata": {
  "kernelspec": {
   "display_name": "MLenv",
   "language": "python",
   "name": "mlenv"
  },
  "language_info": {
   "codemirror_mode": {
    "name": "ipython",
    "version": 3
   },
   "file_extension": ".py",
   "mimetype": "text/x-python",
   "name": "python",
   "nbconvert_exporter": "python",
   "pygments_lexer": "ipython3",
   "version": "3.12.1"
  }
 },
 "nbformat": 4,
 "nbformat_minor": 5
}
