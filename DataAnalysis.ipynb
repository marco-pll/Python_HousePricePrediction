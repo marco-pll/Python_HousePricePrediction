{
 "cells": [
  {
   "cell_type": "markdown",
   "id": "27229423-8f23-4cf5-8f98-112a810c1141",
   "metadata": {},
   "source": [
    "# Data analysis on \"Immobiliare.it\" data.\n",
    "After some feature engineering and exploratory analysis, different models will be tried to identify the logic that will best fit the task."
   ]
  },
  {
   "cell_type": "markdown",
   "id": "7aac15e1-9460-49cb-bb21-917b7fd0763c",
   "metadata": {},
   "source": [
    "### Feature exploration\n",
    "The data will be loaded and the features explored."
   ]
  },
  {
   "cell_type": "code",
   "execution_count": 1,
   "id": "8a46c452-f67b-44d3-89a5-e3088d768a00",
   "metadata": {},
   "outputs": [],
   "source": [
    "# Importing the necessary libraries\n",
    "import pandas as pd\n",
    "import numpy as np"
   ]
  },
  {
   "cell_type": "code",
   "execution_count": 2,
   "id": "19aae12c-972b-4ac0-8607-52a9925141d3",
   "metadata": {},
   "outputs": [],
   "source": [
    "houses = pd.read_csv(\"DATA/casemilano.csv\", encoding='unicode_escape')"
   ]
  },
  {
   "cell_type": "code",
   "execution_count": 3,
   "id": "b7c64576-7ced-469a-937f-32cd539dd246",
   "metadata": {},
   "outputs": [],
   "source": [
    "#Missing data will be removed\n",
    "#This leads to lose about 35% of observations, but it must be done, as the variables with missing values are important ones, and cannot be excluded.\n",
    "houses.dropna(inplace=True)"
   ]
  },
  {
   "cell_type": "code",
   "execution_count": 4,
   "id": "a1113140-b7fc-4853-826b-9d56336178dc",
   "metadata": {},
   "outputs": [
    {
     "data": {
      "text/plain": [
       "(7297, 18)"
      ]
     },
     "execution_count": 4,
     "metadata": {},
     "output_type": "execute_result"
    }
   ],
   "source": [
    "houses.shape"
   ]
  },
  {
   "cell_type": "code",
   "execution_count": 5,
   "id": "8509654c-5400-4f5f-88d0-bb40f9421d51",
   "metadata": {},
   "outputs": [],
   "source": [
    "# The features will be cleaned.\n",
    "\n",
    "#Features eliminated\n",
    "houses = houses.drop('w', axis=1) #It's a constant variable\n",
    "houses = houses.drop(\"s\", axis=1) #It's unclear the meaning of the variable\n",
    "\n",
    "#Ascensore recoded.\n",
    "houses.loc[houses[\"ascensore\"] == \"no\", \"ascensore\"] = 0\n",
    "houses.loc[houses[\"ascensore\"] != 0, \"ascensore\"] = 1\n",
    "houses[\"ascensore\"].astype(np.int64)\n",
    "\n",
    "#Parking: more than 2 in shared parking space are merged.\n",
    "\n",
    "#Features made character. The dtype remain \"object\"\n",
    "houses[\"numero.bagni\"] = houses[\"numero.bagni\"].astype(str)\n",
    "houses[\"numero.stanze\"] = houses[\"numero.stanze\"].astype(str)\n",
    "\n",
    "#Features made numeric\n",
    "houses[\"numero.totale.piani.edificio\"][houses[\"numero.totale.piani.edificio\"] == \"1 piano\"] = 1\n",
    "houses[\"numero.totale.piani.edificio\"] = houses[\"numero.totale.piani.edificio\"].astype(np.int8)"
   ]
  },
  {
   "cell_type": "code",
   "execution_count": 15,
   "id": "6ec92d53-77af-4b42-b2ad-2f05e1565223",
   "metadata": {},
   "outputs": [
    {
     "data": {
      "text/html": [
       "<div>\n",
       "<style scoped>\n",
       "    .dataframe tbody tr th:only-of-type {\n",
       "        vertical-align: middle;\n",
       "    }\n",
       "\n",
       "    .dataframe tbody tr th {\n",
       "        vertical-align: top;\n",
       "    }\n",
       "\n",
       "    .dataframe thead th {\n",
       "        text-align: right;\n",
       "    }\n",
       "</style>\n",
       "<table border=\"1\" class=\"dataframe\">\n",
       "  <thead>\n",
       "    <tr style=\"text-align: right;\">\n",
       "      <th></th>\n",
       "      <th>prezzo</th>\n",
       "      <th>metri.quadrati</th>\n",
       "      <th>numero.bagni</th>\n",
       "      <th>ascensore</th>\n",
       "      <th>numero.stanze</th>\n",
       "      <th>altre.caratteristiche</th>\n",
       "      <th>numero.totale.piani.edificio</th>\n",
       "      <th>parcheggio</th>\n",
       "      <th>disponibile</th>\n",
       "      <th>spese.condominiali</th>\n",
       "      <th>anno.di. Costruzione</th>\n",
       "      <th>condizioni</th>\n",
       "      <th>zona</th>\n",
       "      <th>piano</th>\n",
       "      <th>riscaldamento.centralizzato</th>\n",
       "      <th>classe.di.efficienza.energetica</th>\n",
       "    </tr>\n",
       "  </thead>\n",
       "  <tbody>\n",
       "    <tr>\n",
       "      <th>1</th>\n",
       "      <td>500000.0</td>\n",
       "      <td>57.0</td>\n",
       "      <td>1</td>\n",
       "      <td>1</td>\n",
       "      <td>2</td>\n",
       "      <td>fibra ottica | videocitofono | sistema d'allar...</td>\n",
       "      <td>7</td>\n",
       "      <td>1 in garage/box</td>\n",
       "      <td>disponibile</td>\n",
       "      <td>nessun costo condominiale</td>\n",
       "      <td>2010.0</td>\n",
       "      <td>eccellente / restaurato</td>\n",
       "      <td>porta romana - medaglie d'oro</td>\n",
       "      <td>1</td>\n",
       "      <td>centralizzato</td>\n",
       "      <td>e</td>\n",
       "    </tr>\n",
       "    <tr>\n",
       "      <th>2</th>\n",
       "      <td>395000.0</td>\n",
       "      <td>92.0</td>\n",
       "      <td>1</td>\n",
       "      <td>1</td>\n",
       "      <td>3</td>\n",
       "      <td>cancello elettrico | fibra ottica | videocitof...</td>\n",
       "      <td>8</td>\n",
       "      <td>no</td>\n",
       "      <td>disponibile</td>\n",
       "      <td>200</td>\n",
       "      <td>1960.0</td>\n",
       "      <td>eccellente / restaurato</td>\n",
       "      <td>gallaratese</td>\n",
       "      <td>1</td>\n",
       "      <td>centralizzato</td>\n",
       "      <td>e</td>\n",
       "    </tr>\n",
       "    <tr>\n",
       "      <th>4</th>\n",
       "      <td>199000.0</td>\n",
       "      <td>38.0</td>\n",
       "      <td>1</td>\n",
       "      <td>0</td>\n",
       "      <td>1</td>\n",
       "      <td>fibra ottica | porta di sicurezza | esposizion...</td>\n",
       "      <td>4</td>\n",
       "      <td>no</td>\n",
       "      <td>disponibile</td>\n",
       "      <td>80</td>\n",
       "      <td>1930.0</td>\n",
       "      <td>eccellente / restaurato</td>\n",
       "      <td>navigli - darsena</td>\n",
       "      <td>1</td>\n",
       "      <td>indipendente</td>\n",
       "      <td>g</td>\n",
       "    </tr>\n",
       "    <tr>\n",
       "      <th>5</th>\n",
       "      <td>299000.0</td>\n",
       "      <td>45.0</td>\n",
       "      <td>1</td>\n",
       "      <td>0</td>\n",
       "      <td>1</td>\n",
       "      <td>cancello elettrico | fibra ottica | porta di s...</td>\n",
       "      <td>5</td>\n",
       "      <td>no</td>\n",
       "      <td>disponibile</td>\n",
       "      <td>100</td>\n",
       "      <td>1911.0</td>\n",
       "      <td>buone condizioni /vivibile</td>\n",
       "      <td>porta romana - medaglie d'oro</td>\n",
       "      <td>1</td>\n",
       "      <td>centralizzato</td>\n",
       "      <td>g</td>\n",
       "    </tr>\n",
       "    <tr>\n",
       "      <th>9</th>\n",
       "      <td>1290000.0</td>\n",
       "      <td>170.0</td>\n",
       "      <td>2</td>\n",
       "      <td>1</td>\n",
       "      <td>4</td>\n",
       "      <td>porta di sicurezza | terrazza | terrazza |port...</td>\n",
       "      <td>6</td>\n",
       "      <td>no</td>\n",
       "      <td>disponibile</td>\n",
       "      <td>500</td>\n",
       "      <td>1970.0</td>\n",
       "      <td>buone condizioni /vivibile</td>\n",
       "      <td>de angeli</td>\n",
       "      <td>6</td>\n",
       "      <td>centralizzato</td>\n",
       "      <td>g</td>\n",
       "    </tr>\n",
       "  </tbody>\n",
       "</table>\n",
       "</div>"
      ],
      "text/plain": [
       "      prezzo  metri.quadrati numero.bagni ascensore numero.stanze  \\\n",
       "1   500000.0            57.0            1         1             2   \n",
       "2   395000.0            92.0            1         1             3   \n",
       "4   199000.0            38.0            1         0             1   \n",
       "5   299000.0            45.0            1         0             1   \n",
       "9  1290000.0           170.0            2         1             4   \n",
       "\n",
       "                               altre.caratteristiche  \\\n",
       "1  fibra ottica | videocitofono | sistema d'allar...   \n",
       "2  cancello elettrico | fibra ottica | videocitof...   \n",
       "4  fibra ottica | porta di sicurezza | esposizion...   \n",
       "5  cancello elettrico | fibra ottica | porta di s...   \n",
       "9  porta di sicurezza | terrazza | terrazza |port...   \n",
       "\n",
       "   numero.totale.piani.edificio       parcheggio  disponibile  \\\n",
       "1                             7  1 in garage/box  disponibile   \n",
       "2                             8               no  disponibile   \n",
       "4                             4               no  disponibile   \n",
       "5                             5               no  disponibile   \n",
       "9                             6               no  disponibile   \n",
       "\n",
       "          spese.condominiali  anno.di. Costruzione  \\\n",
       "1  nessun costo condominiale                2010.0   \n",
       "2                        200                1960.0   \n",
       "4                         80                1930.0   \n",
       "5                        100                1911.0   \n",
       "9                        500                1970.0   \n",
       "\n",
       "                   condizioni                           zona piano  \\\n",
       "1     eccellente / restaurato  porta romana - medaglie d'oro     1   \n",
       "2     eccellente / restaurato                    gallaratese     1   \n",
       "4     eccellente / restaurato              navigli - darsena     1   \n",
       "5  buone condizioni /vivibile  porta romana - medaglie d'oro     1   \n",
       "9  buone condizioni /vivibile                      de angeli     6   \n",
       "\n",
       "  riscaldamento.centralizzato classe.di.efficienza.energetica  \n",
       "1               centralizzato                               e  \n",
       "2               centralizzato                               e  \n",
       "4                indipendente                               g  \n",
       "5               centralizzato                               g  \n",
       "9               centralizzato                               g  "
      ]
     },
     "execution_count": 15,
     "metadata": {},
     "output_type": "execute_result"
    }
   ],
   "source": [
    "houses.head()"
   ]
  },
  {
   "cell_type": "code",
   "execution_count": null,
   "id": "8bf073ad-3a4a-451e-8cce-e5edfb4a6d69",
   "metadata": {},
   "outputs": [],
   "source": []
  },
  {
   "cell_type": "code",
   "execution_count": 16,
   "id": "c71ad2f1-c405-41fd-bf92-d671132758cc",
   "metadata": {},
   "outputs": [
    {
     "data": {
      "text/plain": [
       "parcheggio\n",
       "no                           5617\n",
       "1 in garage/box              1066\n",
       "1 in parcheggio condiviso     388\n",
       "2 in garage/box               192\n",
       "2 in parcheggio condiviso      23\n",
       "4 in parcheggio condiviso       5\n",
       "3 in parcheggio condiviso       3\n",
       "5 in parcheggio condiviso       1\n",
       "9 in parcheggio condiviso       1\n",
       "6 in parcheggio condiviso       1\n",
       "Name: count, dtype: int64"
      ]
     },
     "execution_count": 16,
     "metadata": {},
     "output_type": "execute_result"
    }
   ],
   "source": [
    "houses[\"parcheggio\"].value_counts()"
   ]
  },
  {
   "cell_type": "code",
   "execution_count": 14,
   "id": "7b7b57bf-ea48-421b-92fe-d40ea8445f02",
   "metadata": {},
   "outputs": [
    {
     "data": {
      "text/plain": [
       "prezzo                             float64\n",
       "metri.quadrati                     float64\n",
       "numero.bagni                        object\n",
       "ascensore                           object\n",
       "numero.stanze                       object\n",
       "altre.caratteristiche               object\n",
       "numero.totale.piani.edificio          int8\n",
       "parcheggio                          object\n",
       "disponibile                         object\n",
       "spese.condominiali                  object\n",
       "anno.di. Costruzione               float64\n",
       "condizioni                          object\n",
       "zona                                object\n",
       "piano                               object\n",
       "riscaldamento.centralizzato         object\n",
       "classe.di.efficienza.energetica     object\n",
       "dtype: object"
      ]
     },
     "execution_count": 14,
     "metadata": {},
     "output_type": "execute_result"
    }
   ],
   "source": [
    "houses.dtypes"
   ]
  }
 ],
 "metadata": {
  "kernelspec": {
   "display_name": "MLenv",
   "language": "python",
   "name": "mlenv"
  },
  "language_info": {
   "codemirror_mode": {
    "name": "ipython",
    "version": 3
   },
   "file_extension": ".py",
   "mimetype": "text/x-python",
   "name": "python",
   "nbconvert_exporter": "python",
   "pygments_lexer": "ipython3",
   "version": "3.12.1"
  }
 },
 "nbformat": 4,
 "nbformat_minor": 5
}
