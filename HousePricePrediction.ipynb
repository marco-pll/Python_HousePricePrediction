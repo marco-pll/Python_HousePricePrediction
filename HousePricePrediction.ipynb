{
 "cells": [
  {
   "cell_type": "markdown",
   "id": "27229423-8f23-4cf5-8f98-112a810c1141",
   "metadata": {},
   "source": [
    "# Data analysis on \"Immobiliare.it\" data.\n",
    "After some feature engineering and exploratory analysis, different models will be tried to identify the logic that will best fit the task."
   ]
  },
  {
   "cell_type": "markdown",
   "id": "7aac15e1-9460-49cb-bb21-917b7fd0763c",
   "metadata": {},
   "source": [
    "## Feature exploration\n",
    "The data will be loaded and the features explored."
   ]
  },
  {
   "cell_type": "code",
   "execution_count": 1,
   "id": "8a46c452-f67b-44d3-89a5-e3088d768a00",
   "metadata": {},
   "outputs": [],
   "source": [
    "# Importing the necessary libraries\n",
    "import pandas as pd\n",
    "import numpy as np\n",
    "import datetime as dt\n",
    "import matplotlib as plt\n",
    "import re"
   ]
  },
  {
   "cell_type": "code",
   "execution_count": 2,
   "id": "19aae12c-972b-4ac0-8607-52a9925141d3",
   "metadata": {},
   "outputs": [],
   "source": [
    "houses = pd.read_csv(\"DATA/casemilano.csv\", encoding='unicode_escape')"
   ]
  },
  {
   "cell_type": "code",
   "execution_count": 3,
   "id": "b7c64576-7ced-469a-937f-32cd539dd246",
   "metadata": {},
   "outputs": [],
   "source": [
    "#Missing data will be removed\n",
    "#This leads to lose about 35% of observations, but it must be done, as the variables with missing values are important ones, and cannot be excluded.\n",
    "houses.dropna(inplace=True)\n",
    "houses = houses.reset_index(drop=True)"
   ]
  },
  {
   "cell_type": "code",
   "execution_count": 4,
   "id": "a1113140-b7fc-4853-826b-9d56336178dc",
   "metadata": {},
   "outputs": [
    {
     "data": {
      "text/plain": [
       "(7297, 18)"
      ]
     },
     "execution_count": 4,
     "metadata": {},
     "output_type": "execute_result"
    }
   ],
   "source": [
    "houses.shape"
   ]
  },
  {
   "cell_type": "code",
   "execution_count": 5,
   "id": "a9b11ed9-174e-4b8c-993c-a90c61c243e1",
   "metadata": {},
   "outputs": [],
   "source": [
    "#Functions used to clean observations.\n",
    "\n",
    "#This function is not important\n",
    "def lotShared(x):\n",
    "    return x in sharedALot\n",
    "\n",
    "#THis functions replaces \"pattern\" with \"sub\".\n",
    "def removePattern(x, pattern, sub):\n",
    "    return str(x).replace(pattern, sub)\n",
    "\n",
    "def splitString (string, split):\n",
    "    return re.split(split,string)\n"
   ]
  },
  {
   "cell_type": "code",
   "execution_count": 6,
   "id": "c9e9bbb3-2052-4043-960d-2ac08f99aa12",
   "metadata": {},
   "outputs": [
    {
     "data": {
      "text/html": [
       "<div>\n",
       "<style scoped>\n",
       "    .dataframe tbody tr th:only-of-type {\n",
       "        vertical-align: middle;\n",
       "    }\n",
       "\n",
       "    .dataframe tbody tr th {\n",
       "        vertical-align: top;\n",
       "    }\n",
       "\n",
       "    .dataframe thead th {\n",
       "        text-align: right;\n",
       "    }\n",
       "</style>\n",
       "<table border=\"1\" class=\"dataframe\">\n",
       "  <thead>\n",
       "    <tr style=\"text-align: right;\">\n",
       "      <th></th>\n",
       "      <th>s</th>\n",
       "      <th>w</th>\n",
       "      <th>prezzo</th>\n",
       "      <th>metri.quadrati</th>\n",
       "      <th>numero.bagni</th>\n",
       "      <th>ascensore</th>\n",
       "      <th>numero.stanze</th>\n",
       "      <th>altre.caratteristiche</th>\n",
       "      <th>numero.totale.piani.edificio</th>\n",
       "      <th>parcheggio</th>\n",
       "      <th>disponibile</th>\n",
       "      <th>spese.condominiali</th>\n",
       "      <th>anno.di. Costruzione</th>\n",
       "      <th>condizioni</th>\n",
       "      <th>zona</th>\n",
       "      <th>piano</th>\n",
       "      <th>riscaldamento.centralizzato</th>\n",
       "      <th>classe.di.efficienza.energetica</th>\n",
       "    </tr>\n",
       "  </thead>\n",
       "  <tbody>\n",
       "    <tr>\n",
       "      <th>0</th>\n",
       "      <td>0</td>\n",
       "      <td>1.0</td>\n",
       "      <td>500000.0</td>\n",
       "      <td>57.0</td>\n",
       "      <td>1</td>\n",
       "      <td>s</td>\n",
       "      <td>2</td>\n",
       "      <td>fibra ottica | videocitofono | sistema d'allar...</td>\n",
       "      <td>7</td>\n",
       "      <td>1 in garage/box</td>\n",
       "      <td>disponibile</td>\n",
       "      <td>nessun costo condominiale</td>\n",
       "      <td>2010.0</td>\n",
       "      <td>eccellente / restaurato</td>\n",
       "      <td>porta romana - medaglie d'oro</td>\n",
       "      <td>1</td>\n",
       "      <td>centralizzato</td>\n",
       "      <td>e</td>\n",
       "    </tr>\n",
       "    <tr>\n",
       "      <th>1</th>\n",
       "      <td>0</td>\n",
       "      <td>1.0</td>\n",
       "      <td>395000.0</td>\n",
       "      <td>92.0</td>\n",
       "      <td>1</td>\n",
       "      <td>s</td>\n",
       "      <td>3</td>\n",
       "      <td>cancello elettrico | fibra ottica | videocitof...</td>\n",
       "      <td>8</td>\n",
       "      <td>no</td>\n",
       "      <td>disponibile</td>\n",
       "      <td>200</td>\n",
       "      <td>1960.0</td>\n",
       "      <td>eccellente / restaurato</td>\n",
       "      <td>gallaratese</td>\n",
       "      <td>1</td>\n",
       "      <td>centralizzato</td>\n",
       "      <td>e</td>\n",
       "    </tr>\n",
       "    <tr>\n",
       "      <th>2</th>\n",
       "      <td>0</td>\n",
       "      <td>1.0</td>\n",
       "      <td>199000.0</td>\n",
       "      <td>38.0</td>\n",
       "      <td>1</td>\n",
       "      <td>no</td>\n",
       "      <td>1</td>\n",
       "      <td>fibra ottica | porta di sicurezza | esposizion...</td>\n",
       "      <td>4</td>\n",
       "      <td>no</td>\n",
       "      <td>disponibile</td>\n",
       "      <td>80</td>\n",
       "      <td>1930.0</td>\n",
       "      <td>eccellente / restaurato</td>\n",
       "      <td>navigli - darsena</td>\n",
       "      <td>1</td>\n",
       "      <td>indipendente</td>\n",
       "      <td>g</td>\n",
       "    </tr>\n",
       "    <tr>\n",
       "      <th>3</th>\n",
       "      <td>0</td>\n",
       "      <td>1.0</td>\n",
       "      <td>299000.0</td>\n",
       "      <td>45.0</td>\n",
       "      <td>1</td>\n",
       "      <td>no</td>\n",
       "      <td>1</td>\n",
       "      <td>cancello elettrico | fibra ottica | porta di s...</td>\n",
       "      <td>5</td>\n",
       "      <td>no</td>\n",
       "      <td>disponibile</td>\n",
       "      <td>100</td>\n",
       "      <td>1911.0</td>\n",
       "      <td>buone condizioni /vivibile</td>\n",
       "      <td>porta romana - medaglie d'oro</td>\n",
       "      <td>1</td>\n",
       "      <td>centralizzato</td>\n",
       "      <td>g</td>\n",
       "    </tr>\n",
       "    <tr>\n",
       "      <th>4</th>\n",
       "      <td>0</td>\n",
       "      <td>1.0</td>\n",
       "      <td>1290000.0</td>\n",
       "      <td>170.0</td>\n",
       "      <td>2</td>\n",
       "      <td>s</td>\n",
       "      <td>4</td>\n",
       "      <td>porta di sicurezza | terrazza | terrazza |port...</td>\n",
       "      <td>6</td>\n",
       "      <td>no</td>\n",
       "      <td>disponibile</td>\n",
       "      <td>500</td>\n",
       "      <td>1970.0</td>\n",
       "      <td>buone condizioni /vivibile</td>\n",
       "      <td>de angeli</td>\n",
       "      <td>6</td>\n",
       "      <td>centralizzato</td>\n",
       "      <td>g</td>\n",
       "    </tr>\n",
       "  </tbody>\n",
       "</table>\n",
       "</div>"
      ],
      "text/plain": [
       "   s    w     prezzo  metri.quadrati numero.bagni ascensore numero.stanze  \\\n",
       "0  0  1.0   500000.0            57.0            1        s             2   \n",
       "1  0  1.0   395000.0            92.0            1        s             3   \n",
       "2  0  1.0   199000.0            38.0            1        no             1   \n",
       "3  0  1.0   299000.0            45.0            1        no             1   \n",
       "4  0  1.0  1290000.0           170.0            2        s             4   \n",
       "\n",
       "                               altre.caratteristiche  \\\n",
       "0  fibra ottica | videocitofono | sistema d'allar...   \n",
       "1  cancello elettrico | fibra ottica | videocitof...   \n",
       "2  fibra ottica | porta di sicurezza | esposizion...   \n",
       "3  cancello elettrico | fibra ottica | porta di s...   \n",
       "4  porta di sicurezza | terrazza | terrazza |port...   \n",
       "\n",
       "  numero.totale.piani.edificio       parcheggio  disponibile  \\\n",
       "0                            7  1 in garage/box  disponibile   \n",
       "1                            8               no  disponibile   \n",
       "2                            4               no  disponibile   \n",
       "3                            5               no  disponibile   \n",
       "4                            6               no  disponibile   \n",
       "\n",
       "          spese.condominiali  anno.di. Costruzione  \\\n",
       "0  nessun costo condominiale                2010.0   \n",
       "1                        200                1960.0   \n",
       "2                         80                1930.0   \n",
       "3                        100                1911.0   \n",
       "4                        500                1970.0   \n",
       "\n",
       "                   condizioni                           zona piano  \\\n",
       "0     eccellente / restaurato  porta romana - medaglie d'oro     1   \n",
       "1     eccellente / restaurato                    gallaratese     1   \n",
       "2     eccellente / restaurato              navigli - darsena     1   \n",
       "3  buone condizioni /vivibile  porta romana - medaglie d'oro     1   \n",
       "4  buone condizioni /vivibile                      de angeli     6   \n",
       "\n",
       "  riscaldamento.centralizzato classe.di.efficienza.energetica  \n",
       "0               centralizzato                               e  \n",
       "1               centralizzato                               e  \n",
       "2                indipendente                               g  \n",
       "3               centralizzato                               g  \n",
       "4               centralizzato                               g  "
      ]
     },
     "execution_count": 6,
     "metadata": {},
     "output_type": "execute_result"
    }
   ],
   "source": [
    "houses.head()"
   ]
  },
  {
   "cell_type": "markdown",
   "id": "370859e5-bd34-45f6-9aee-c59c9e35b3d9",
   "metadata": {},
   "source": [
    "### Feature cleaning"
   ]
  },
  {
   "cell_type": "markdown",
   "id": "8857e0a8-e8f0-47a3-9d2b-9b0ab62521a3",
   "metadata": {},
   "source": [
    "The following chunks will be used for feature cleaning and engineering."
   ]
  },
  {
   "cell_type": "code",
   "execution_count": 7,
   "id": "1a2d7e6e-3034-4da7-9d80-869f6c628297",
   "metadata": {},
   "outputs": [],
   "source": [
    "# The features will be cleaned.\n",
    "\n",
    "#Features eliminated\n",
    "houses = houses.drop('w', axis=1) #It's a constant variable\n",
    "houses = houses.drop(\"s\", axis=1) #It's unclear the meaning of the variable"
   ]
  },
  {
   "cell_type": "code",
   "execution_count": 8,
   "id": "988958a5-1a5b-4187-9418-f78914a5a1f5",
   "metadata": {},
   "outputs": [],
   "source": [
    "#Ascensore recoded.\n",
    "houses.loc[houses[\"ascensore\"] == \"no\", \"ascensore\"] = 0\n",
    "houses.loc[houses[\"ascensore\"] != 0, \"ascensore\"] = 1\n",
    "houses[\"ascensore\"] = houses[\"ascensore\"].astype(bool)"
   ]
  },
  {
   "cell_type": "code",
   "execution_count": 9,
   "id": "a27ea2cc-d57e-4a97-b5b4-6d66c936b873",
   "metadata": {},
   "outputs": [],
   "source": [
    "#Parking: more than 2 in shared parking space are merged in \"aLotShared\".\n",
    "sharedALot = houses[\"parcheggio\"].value_counts().loc[houses[\"parcheggio\"].value_counts() <=5].index\n",
    "houses.loc[houses[\"parcheggio\"].apply(lotShared),\"parcheggio\"] = \"aLotShared\"\n",
    "houses[\"parcheggio\"] = houses[\"parcheggio\"].astype(str)"
   ]
  },
  {
   "cell_type": "code",
   "execution_count": 10,
   "id": "e1a4ed31-fd6a-466d-8697-6163955ca784",
   "metadata": {},
   "outputs": [],
   "source": [
    "#Features made character. The dtype remain \"object\"\n",
    "houses[\"numero.bagni\"] = houses[\"numero.bagni\"].astype(str)\n",
    "houses[\"numero.stanze\"] = houses[\"numero.stanze\"].astype(str)\n",
    "\n",
    "#Features made numeric\n",
    "houses.loc[houses[\"numero.totale.piani.edificio\"] == \"1 piano\", \"numero.totale.piani.edificio\"] = 1\n",
    "houses[\"numero.totale.piani.edificio\"] = houses[\"numero.totale.piani.edificio\"].astype(np.int8)"
   ]
  },
  {
   "cell_type": "markdown",
   "id": "aeeed19b-4861-4949-8082-2b7ef1c23c26",
   "metadata": {},
   "source": [
    "The following are specific changes made to the variable \"disponibile\". The new version is measured in \"days from now\", and is a measure of when, in the future, the house will be available."
   ]
  },
  {
   "cell_type": "code",
   "execution_count": 11,
   "id": "453b4cea-7065-4185-83f9-bab5ea43a2d1",
   "metadata": {},
   "outputs": [],
   "source": [
    "#Is the house available or not?\n",
    "houses.loc[houses[\"disponibile\"] == \"disponibile\",\"disponibile\"] = 1\n",
    "houses.loc[houses[\"disponibile\"] != 1,\"disponibile\"] = 0\n",
    "houses[\"disponibile\"] = houses[\"disponibile\"].astype(bool)"
   ]
  },
  {
   "cell_type": "markdown",
   "id": "0015ebcb-ec8d-43d6-b0b8-bd4df7d64189",
   "metadata": {},
   "source": [
    "Some changes in the dtypes of the variables, to make sure they are all strings (to one-hot encode)."
   ]
  },
  {
   "cell_type": "code",
   "execution_count": 12,
   "id": "9ea4f56d-ac6f-4ab1-8b33-4160959d6f66",
   "metadata": {},
   "outputs": [],
   "source": [
    "#Spese condominiali has been made numeric.\n",
    "houses.loc[houses[\"spese.condominiali\"] == \"nessun costo condominiale\", \"spese.condominiali\"] = 0\n",
    "houses[\"spese.condominiali\"] = houses[\"spese.condominiali\"].astype(float)"
   ]
  },
  {
   "cell_type": "code",
   "execution_count": 13,
   "id": "1ba311f6-161b-4312-b6b6-0dbeac78adc1",
   "metadata": {},
   "outputs": [],
   "source": [
    "#condizioni has been made made string.\n",
    "houses[\"condizioni\"] = houses[\"condizioni\"].astype(str)"
   ]
  },
  {
   "cell_type": "code",
   "execution_count": 14,
   "id": "a714e27e-c910-4483-81b4-ee70cba13092",
   "metadata": {},
   "outputs": [],
   "source": [
    "houses[\"piano\"] = houses[\"piano\"].astype(str)"
   ]
  },
  {
   "cell_type": "code",
   "execution_count": 15,
   "id": "28fa04a5-aa12-4403-96f8-822ee4255e74",
   "metadata": {},
   "outputs": [],
   "source": [
    "houses.loc[houses[\"riscaldamento.centralizzato\"] == \"centralizzato\",\"riscaldamento.centralizzato\"] = 1\n",
    "houses.loc[houses[\"riscaldamento.centralizzato\"] == \"indipendente\",\"riscaldamento.centralizzato\"] = 0\n",
    "houses[\"riscaldamento.centralizzato\"] = houses[\"riscaldamento.centralizzato\"].astype(bool)"
   ]
  },
  {
   "cell_type": "code",
   "execution_count": 16,
   "id": "b5d3963b-46d1-4cc9-ad05-1dab78ab72a2",
   "metadata": {},
   "outputs": [],
   "source": [
    "houses[\"classe.di.efficienza.energetica\"] = houses[\"classe.di.efficienza.energetica\"].astype(str)"
   ]
  },
  {
   "cell_type": "code",
   "execution_count": 17,
   "id": "3e803e57-9195-48f2-893d-ad3f1b2f599b",
   "metadata": {},
   "outputs": [],
   "source": [
    "#houses[\"zona\"] = houses[\"zona\"].astype(str)"
   ]
  },
  {
   "cell_type": "markdown",
   "id": "38c00cd2-b21d-4925-ab1d-e244fb396f8c",
   "metadata": {},
   "source": [
    "For the moment the variables \"zona\" and \"altre.caratteristiche\" will be excluded, as they were somewhat problematic."
   ]
  },
  {
   "cell_type": "code",
   "execution_count": 18,
   "id": "952c1c54-79ec-4754-9c74-129e5c1b78d1",
   "metadata": {},
   "outputs": [],
   "source": [
    "#A cycle to get all the single other attributes of a house.\n",
    "#attributes = set()\n",
    "#for house in range(0,houses.shape[0]):\n",
    "#    attributes.update(set(splitString(houses[\"altre.caratteristiche\"].iloc[house],r\"\\s*\\|\\s*\")))"
   ]
  },
  {
   "cell_type": "code",
   "execution_count": 19,
   "id": "0dcfda70-a1aa-434c-bc85-6c9530eaa06d",
   "metadata": {},
   "outputs": [],
   "source": [
    "#Adding each characteristic as a new feature\n",
    "#for feature in attributes:\n",
    "#    houses[feature] = 0"
   ]
  },
  {
   "cell_type": "code",
   "execution_count": 20,
   "id": "c32589c5-86c8-4527-b1ce-d7b97761f840",
   "metadata": {},
   "outputs": [],
   "source": [
    "#Each other characteritics: 0 if absent, 1 if present.\n",
    "#for house in range(0,houses.shape[0]):\n",
    "#    for feature in splitString(houses[\"altre.caratteristiche\"].iloc[house],r\"\\s*\\|\\s*\"):\n",
    "#        houses.iloc[house, houses.columns.get_loc(feature)] = 1"
   ]
  },
  {
   "cell_type": "code",
   "execution_count": 21,
   "id": "32892ee1-8a71-43c3-a7f6-2ee3244483eb",
   "metadata": {},
   "outputs": [],
   "source": [
    "#houses = houses.drop('altre.caratteristiche', axis=1)"
   ]
  },
  {
   "cell_type": "code",
   "execution_count": 22,
   "id": "ed885838-60e3-40b9-b44e-324f758f0057",
   "metadata": {},
   "outputs": [],
   "source": [
    "data = houses.drop([\"altre.caratteristiche\",\"zona\"], axis = 1)"
   ]
  },
  {
   "cell_type": "markdown",
   "id": "c38b7d33-36f6-43b3-89ad-58caed245c57",
   "metadata": {},
   "source": [
    "### Making Dummies\n",
    "The features have been cleaned. The categorical variables need to be made single features, so the models can be applied."
   ]
  },
  {
   "cell_type": "code",
   "execution_count": 23,
   "id": "99b5fa02-ba1d-4e13-9d0e-04c3c415dd2c",
   "metadata": {},
   "outputs": [],
   "source": [
    "#Libraries necessary for the models\n",
    "from sklearn.model_selection import train_test_split\n",
    "from sklearn.preprocessing import OneHotEncoder"
   ]
  },
  {
   "cell_type": "code",
   "execution_count": 24,
   "id": "01e20bad-5e3a-4639-b85c-1198e4ea0beb",
   "metadata": {},
   "outputs": [],
   "source": [
    "#We take the categorical variables, and make them dummies\n",
    "cat = []\n",
    "for feature in range(0, data.shape[1]):\n",
    "    if data.iloc[:,feature].dtype == np.dtype('O'):\n",
    "        cat.append(data.columns[feature])\n"
   ]
  },
  {
   "cell_type": "code",
   "execution_count": 25,
   "id": "2c96df97-dbc6-49db-bc89-132e0a339226",
   "metadata": {},
   "outputs": [],
   "source": [
    "#Encoding the variables\n",
    "encoder = OneHotEncoder(sparse_output=False, drop='first')\n",
    "encoded_features = encoder.fit_transform(data[cat])\n",
    "encoded_df = pd.DataFrame(encoded_features, columns=encoder.get_feature_names_out(cat))"
   ]
  },
  {
   "cell_type": "code",
   "execution_count": 26,
   "id": "d50b4aea-05d2-4348-84fb-d08c1eccc1c3",
   "metadata": {},
   "outputs": [
    {
     "data": {
      "text/html": [
       "<div>\n",
       "<style scoped>\n",
       "    .dataframe tbody tr th:only-of-type {\n",
       "        vertical-align: middle;\n",
       "    }\n",
       "\n",
       "    .dataframe tbody tr th {\n",
       "        vertical-align: top;\n",
       "    }\n",
       "\n",
       "    .dataframe thead th {\n",
       "        text-align: right;\n",
       "    }\n",
       "</style>\n",
       "<table border=\"1\" class=\"dataframe\">\n",
       "  <thead>\n",
       "    <tr style=\"text-align: right;\">\n",
       "      <th></th>\n",
       "      <th>numero.bagni_2</th>\n",
       "      <th>numero.bagni_3</th>\n",
       "      <th>numero.bagni_3+</th>\n",
       "      <th>numero.stanze_2</th>\n",
       "      <th>numero.stanze_3</th>\n",
       "      <th>numero.stanze_4</th>\n",
       "      <th>numero.stanze_5</th>\n",
       "      <th>numero.stanze_5+</th>\n",
       "      <th>parcheggio_1 in parcheggio condiviso</th>\n",
       "      <th>parcheggio_2 in garage/box</th>\n",
       "      <th>...</th>\n",
       "      <th>piano_9</th>\n",
       "      <th>piano_piano terra</th>\n",
       "      <th>piano_seminterrato</th>\n",
       "      <th>piano_soppalco</th>\n",
       "      <th>classe.di.efficienza.energetica_b</th>\n",
       "      <th>classe.di.efficienza.energetica_c</th>\n",
       "      <th>classe.di.efficienza.energetica_d</th>\n",
       "      <th>classe.di.efficienza.energetica_e</th>\n",
       "      <th>classe.di.efficienza.energetica_f</th>\n",
       "      <th>classe.di.efficienza.energetica_g</th>\n",
       "    </tr>\n",
       "  </thead>\n",
       "  <tbody>\n",
       "    <tr>\n",
       "      <th>0</th>\n",
       "      <td>0.0</td>\n",
       "      <td>0.0</td>\n",
       "      <td>0.0</td>\n",
       "      <td>1.0</td>\n",
       "      <td>0.0</td>\n",
       "      <td>0.0</td>\n",
       "      <td>0.0</td>\n",
       "      <td>0.0</td>\n",
       "      <td>0.0</td>\n",
       "      <td>0.0</td>\n",
       "      <td>...</td>\n",
       "      <td>0.0</td>\n",
       "      <td>0.0</td>\n",
       "      <td>0.0</td>\n",
       "      <td>0.0</td>\n",
       "      <td>0.0</td>\n",
       "      <td>0.0</td>\n",
       "      <td>0.0</td>\n",
       "      <td>1.0</td>\n",
       "      <td>0.0</td>\n",
       "      <td>0.0</td>\n",
       "    </tr>\n",
       "    <tr>\n",
       "      <th>1</th>\n",
       "      <td>0.0</td>\n",
       "      <td>0.0</td>\n",
       "      <td>0.0</td>\n",
       "      <td>0.0</td>\n",
       "      <td>1.0</td>\n",
       "      <td>0.0</td>\n",
       "      <td>0.0</td>\n",
       "      <td>0.0</td>\n",
       "      <td>0.0</td>\n",
       "      <td>0.0</td>\n",
       "      <td>...</td>\n",
       "      <td>0.0</td>\n",
       "      <td>0.0</td>\n",
       "      <td>0.0</td>\n",
       "      <td>0.0</td>\n",
       "      <td>0.0</td>\n",
       "      <td>0.0</td>\n",
       "      <td>0.0</td>\n",
       "      <td>1.0</td>\n",
       "      <td>0.0</td>\n",
       "      <td>0.0</td>\n",
       "    </tr>\n",
       "    <tr>\n",
       "      <th>2</th>\n",
       "      <td>0.0</td>\n",
       "      <td>0.0</td>\n",
       "      <td>0.0</td>\n",
       "      <td>0.0</td>\n",
       "      <td>0.0</td>\n",
       "      <td>0.0</td>\n",
       "      <td>0.0</td>\n",
       "      <td>0.0</td>\n",
       "      <td>0.0</td>\n",
       "      <td>0.0</td>\n",
       "      <td>...</td>\n",
       "      <td>0.0</td>\n",
       "      <td>0.0</td>\n",
       "      <td>0.0</td>\n",
       "      <td>0.0</td>\n",
       "      <td>0.0</td>\n",
       "      <td>0.0</td>\n",
       "      <td>0.0</td>\n",
       "      <td>0.0</td>\n",
       "      <td>0.0</td>\n",
       "      <td>1.0</td>\n",
       "    </tr>\n",
       "    <tr>\n",
       "      <th>3</th>\n",
       "      <td>0.0</td>\n",
       "      <td>0.0</td>\n",
       "      <td>0.0</td>\n",
       "      <td>0.0</td>\n",
       "      <td>0.0</td>\n",
       "      <td>0.0</td>\n",
       "      <td>0.0</td>\n",
       "      <td>0.0</td>\n",
       "      <td>0.0</td>\n",
       "      <td>0.0</td>\n",
       "      <td>...</td>\n",
       "      <td>0.0</td>\n",
       "      <td>0.0</td>\n",
       "      <td>0.0</td>\n",
       "      <td>0.0</td>\n",
       "      <td>0.0</td>\n",
       "      <td>0.0</td>\n",
       "      <td>0.0</td>\n",
       "      <td>0.0</td>\n",
       "      <td>0.0</td>\n",
       "      <td>1.0</td>\n",
       "    </tr>\n",
       "    <tr>\n",
       "      <th>4</th>\n",
       "      <td>1.0</td>\n",
       "      <td>0.0</td>\n",
       "      <td>0.0</td>\n",
       "      <td>0.0</td>\n",
       "      <td>0.0</td>\n",
       "      <td>1.0</td>\n",
       "      <td>0.0</td>\n",
       "      <td>0.0</td>\n",
       "      <td>0.0</td>\n",
       "      <td>0.0</td>\n",
       "      <td>...</td>\n",
       "      <td>0.0</td>\n",
       "      <td>0.0</td>\n",
       "      <td>0.0</td>\n",
       "      <td>0.0</td>\n",
       "      <td>0.0</td>\n",
       "      <td>0.0</td>\n",
       "      <td>0.0</td>\n",
       "      <td>0.0</td>\n",
       "      <td>0.0</td>\n",
       "      <td>1.0</td>\n",
       "    </tr>\n",
       "    <tr>\n",
       "      <th>...</th>\n",
       "      <td>...</td>\n",
       "      <td>...</td>\n",
       "      <td>...</td>\n",
       "      <td>...</td>\n",
       "      <td>...</td>\n",
       "      <td>...</td>\n",
       "      <td>...</td>\n",
       "      <td>...</td>\n",
       "      <td>...</td>\n",
       "      <td>...</td>\n",
       "      <td>...</td>\n",
       "      <td>...</td>\n",
       "      <td>...</td>\n",
       "      <td>...</td>\n",
       "      <td>...</td>\n",
       "      <td>...</td>\n",
       "      <td>...</td>\n",
       "      <td>...</td>\n",
       "      <td>...</td>\n",
       "      <td>...</td>\n",
       "      <td>...</td>\n",
       "    </tr>\n",
       "    <tr>\n",
       "      <th>7292</th>\n",
       "      <td>0.0</td>\n",
       "      <td>0.0</td>\n",
       "      <td>0.0</td>\n",
       "      <td>1.0</td>\n",
       "      <td>0.0</td>\n",
       "      <td>0.0</td>\n",
       "      <td>0.0</td>\n",
       "      <td>0.0</td>\n",
       "      <td>0.0</td>\n",
       "      <td>0.0</td>\n",
       "      <td>...</td>\n",
       "      <td>0.0</td>\n",
       "      <td>0.0</td>\n",
       "      <td>0.0</td>\n",
       "      <td>0.0</td>\n",
       "      <td>0.0</td>\n",
       "      <td>0.0</td>\n",
       "      <td>0.0</td>\n",
       "      <td>0.0</td>\n",
       "      <td>0.0</td>\n",
       "      <td>1.0</td>\n",
       "    </tr>\n",
       "    <tr>\n",
       "      <th>7293</th>\n",
       "      <td>1.0</td>\n",
       "      <td>0.0</td>\n",
       "      <td>0.0</td>\n",
       "      <td>0.0</td>\n",
       "      <td>0.0</td>\n",
       "      <td>1.0</td>\n",
       "      <td>0.0</td>\n",
       "      <td>0.0</td>\n",
       "      <td>0.0</td>\n",
       "      <td>0.0</td>\n",
       "      <td>...</td>\n",
       "      <td>0.0</td>\n",
       "      <td>0.0</td>\n",
       "      <td>0.0</td>\n",
       "      <td>0.0</td>\n",
       "      <td>0.0</td>\n",
       "      <td>0.0</td>\n",
       "      <td>0.0</td>\n",
       "      <td>0.0</td>\n",
       "      <td>1.0</td>\n",
       "      <td>0.0</td>\n",
       "    </tr>\n",
       "    <tr>\n",
       "      <th>7294</th>\n",
       "      <td>0.0</td>\n",
       "      <td>0.0</td>\n",
       "      <td>0.0</td>\n",
       "      <td>1.0</td>\n",
       "      <td>0.0</td>\n",
       "      <td>0.0</td>\n",
       "      <td>0.0</td>\n",
       "      <td>0.0</td>\n",
       "      <td>0.0</td>\n",
       "      <td>0.0</td>\n",
       "      <td>...</td>\n",
       "      <td>0.0</td>\n",
       "      <td>0.0</td>\n",
       "      <td>0.0</td>\n",
       "      <td>0.0</td>\n",
       "      <td>0.0</td>\n",
       "      <td>0.0</td>\n",
       "      <td>0.0</td>\n",
       "      <td>1.0</td>\n",
       "      <td>0.0</td>\n",
       "      <td>0.0</td>\n",
       "    </tr>\n",
       "    <tr>\n",
       "      <th>7295</th>\n",
       "      <td>0.0</td>\n",
       "      <td>0.0</td>\n",
       "      <td>0.0</td>\n",
       "      <td>1.0</td>\n",
       "      <td>0.0</td>\n",
       "      <td>0.0</td>\n",
       "      <td>0.0</td>\n",
       "      <td>0.0</td>\n",
       "      <td>0.0</td>\n",
       "      <td>0.0</td>\n",
       "      <td>...</td>\n",
       "      <td>0.0</td>\n",
       "      <td>0.0</td>\n",
       "      <td>0.0</td>\n",
       "      <td>0.0</td>\n",
       "      <td>0.0</td>\n",
       "      <td>0.0</td>\n",
       "      <td>0.0</td>\n",
       "      <td>0.0</td>\n",
       "      <td>1.0</td>\n",
       "      <td>0.0</td>\n",
       "    </tr>\n",
       "    <tr>\n",
       "      <th>7296</th>\n",
       "      <td>0.0</td>\n",
       "      <td>0.0</td>\n",
       "      <td>0.0</td>\n",
       "      <td>0.0</td>\n",
       "      <td>1.0</td>\n",
       "      <td>0.0</td>\n",
       "      <td>0.0</td>\n",
       "      <td>0.0</td>\n",
       "      <td>0.0</td>\n",
       "      <td>0.0</td>\n",
       "      <td>...</td>\n",
       "      <td>0.0</td>\n",
       "      <td>0.0</td>\n",
       "      <td>0.0</td>\n",
       "      <td>1.0</td>\n",
       "      <td>0.0</td>\n",
       "      <td>0.0</td>\n",
       "      <td>0.0</td>\n",
       "      <td>1.0</td>\n",
       "      <td>0.0</td>\n",
       "      <td>0.0</td>\n",
       "    </tr>\n",
       "  </tbody>\n",
       "</table>\n",
       "<p>7297 rows × 33 columns</p>\n",
       "</div>"
      ],
      "text/plain": [
       "      numero.bagni_2  numero.bagni_3  numero.bagni_3+  numero.stanze_2  \\\n",
       "0                0.0             0.0              0.0              1.0   \n",
       "1                0.0             0.0              0.0              0.0   \n",
       "2                0.0             0.0              0.0              0.0   \n",
       "3                0.0             0.0              0.0              0.0   \n",
       "4                1.0             0.0              0.0              0.0   \n",
       "...              ...             ...              ...              ...   \n",
       "7292             0.0             0.0              0.0              1.0   \n",
       "7293             1.0             0.0              0.0              0.0   \n",
       "7294             0.0             0.0              0.0              1.0   \n",
       "7295             0.0             0.0              0.0              1.0   \n",
       "7296             0.0             0.0              0.0              0.0   \n",
       "\n",
       "      numero.stanze_3  numero.stanze_4  numero.stanze_5  numero.stanze_5+  \\\n",
       "0                 0.0              0.0              0.0               0.0   \n",
       "1                 1.0              0.0              0.0               0.0   \n",
       "2                 0.0              0.0              0.0               0.0   \n",
       "3                 0.0              0.0              0.0               0.0   \n",
       "4                 0.0              1.0              0.0               0.0   \n",
       "...               ...              ...              ...               ...   \n",
       "7292              0.0              0.0              0.0               0.0   \n",
       "7293              0.0              1.0              0.0               0.0   \n",
       "7294              0.0              0.0              0.0               0.0   \n",
       "7295              0.0              0.0              0.0               0.0   \n",
       "7296              1.0              0.0              0.0               0.0   \n",
       "\n",
       "      parcheggio_1 in parcheggio condiviso  parcheggio_2 in garage/box  ...  \\\n",
       "0                                      0.0                         0.0  ...   \n",
       "1                                      0.0                         0.0  ...   \n",
       "2                                      0.0                         0.0  ...   \n",
       "3                                      0.0                         0.0  ...   \n",
       "4                                      0.0                         0.0  ...   \n",
       "...                                    ...                         ...  ...   \n",
       "7292                                   0.0                         0.0  ...   \n",
       "7293                                   0.0                         0.0  ...   \n",
       "7294                                   0.0                         0.0  ...   \n",
       "7295                                   0.0                         0.0  ...   \n",
       "7296                                   0.0                         0.0  ...   \n",
       "\n",
       "      piano_9  piano_piano terra  piano_seminterrato  piano_soppalco  \\\n",
       "0         0.0                0.0                 0.0             0.0   \n",
       "1         0.0                0.0                 0.0             0.0   \n",
       "2         0.0                0.0                 0.0             0.0   \n",
       "3         0.0                0.0                 0.0             0.0   \n",
       "4         0.0                0.0                 0.0             0.0   \n",
       "...       ...                ...                 ...             ...   \n",
       "7292      0.0                0.0                 0.0             0.0   \n",
       "7293      0.0                0.0                 0.0             0.0   \n",
       "7294      0.0                0.0                 0.0             0.0   \n",
       "7295      0.0                0.0                 0.0             0.0   \n",
       "7296      0.0                0.0                 0.0             1.0   \n",
       "\n",
       "      classe.di.efficienza.energetica_b  classe.di.efficienza.energetica_c  \\\n",
       "0                                   0.0                                0.0   \n",
       "1                                   0.0                                0.0   \n",
       "2                                   0.0                                0.0   \n",
       "3                                   0.0                                0.0   \n",
       "4                                   0.0                                0.0   \n",
       "...                                 ...                                ...   \n",
       "7292                                0.0                                0.0   \n",
       "7293                                0.0                                0.0   \n",
       "7294                                0.0                                0.0   \n",
       "7295                                0.0                                0.0   \n",
       "7296                                0.0                                0.0   \n",
       "\n",
       "      classe.di.efficienza.energetica_d  classe.di.efficienza.energetica_e  \\\n",
       "0                                   0.0                                1.0   \n",
       "1                                   0.0                                1.0   \n",
       "2                                   0.0                                0.0   \n",
       "3                                   0.0                                0.0   \n",
       "4                                   0.0                                0.0   \n",
       "...                                 ...                                ...   \n",
       "7292                                0.0                                0.0   \n",
       "7293                                0.0                                0.0   \n",
       "7294                                0.0                                1.0   \n",
       "7295                                0.0                                0.0   \n",
       "7296                                0.0                                1.0   \n",
       "\n",
       "      classe.di.efficienza.energetica_f  classe.di.efficienza.energetica_g  \n",
       "0                                   0.0                                0.0  \n",
       "1                                   0.0                                0.0  \n",
       "2                                   0.0                                1.0  \n",
       "3                                   0.0                                1.0  \n",
       "4                                   0.0                                1.0  \n",
       "...                                 ...                                ...  \n",
       "7292                                0.0                                1.0  \n",
       "7293                                1.0                                0.0  \n",
       "7294                                0.0                                0.0  \n",
       "7295                                1.0                                0.0  \n",
       "7296                                0.0                                0.0  \n",
       "\n",
       "[7297 rows x 33 columns]"
      ]
     },
     "execution_count": 26,
     "metadata": {},
     "output_type": "execute_result"
    }
   ],
   "source": [
    "encoded_df"
   ]
  },
  {
   "cell_type": "code",
   "execution_count": 27,
   "id": "e0bc458d-9783-4441-9916-d94f120eeb23",
   "metadata": {},
   "outputs": [],
   "source": [
    "# Concatenate the original DataFrame (with categorical columns dropped) with the encoded features\n",
    "data_encoded = pd.concat([data.drop(cat, axis=1), encoded_df], axis=1)"
   ]
  },
  {
   "cell_type": "markdown",
   "id": "d6cdbc9f-e91e-4cf9-a802-8167c046e196",
   "metadata": {},
   "source": [
    "Now that the features are cleaned and the dataset ready, it's time to try out some models."
   ]
  },
  {
   "cell_type": "markdown",
   "id": "5c0b191b-82ca-4766-99b7-fb9a4daf29f9",
   "metadata": {},
   "source": [
    "## Models\n",
    "In the following sections different models will be tested on the data available, to try and find the best one. The comparison will be done as follows:\n",
    "* Three subsets will be created: a train set, on which to train the models, a validation set, on which the models will be regulated, and a test set, that will be used for the final comparison.\n",
    "* The comparison will use the predictive R^2 score, the index computed on the test set (NOT on training data). This is called \"predictive R^2\"."
   ]
  },
  {
   "cell_type": "code",
   "execution_count": 28,
   "id": "4ebdcd6e-719f-40cf-ad27-469b77543067",
   "metadata": {},
   "outputs": [],
   "source": [
    "#Train set, test set.\n",
    "train_set, test_set = train_test_split(data_encoded, test_size = 0.4)"
   ]
  },
  {
   "cell_type": "code",
   "execution_count": 29,
   "id": "46e9e666-681b-46c3-afaf-31dd62f47054",
   "metadata": {},
   "outputs": [],
   "source": [
    "#The test set is split in validation and test set.\n",
    "validation_set, test_set = train_test_split(test_set, test_size = 0.5)"
   ]
  },
  {
   "cell_type": "markdown",
   "id": "fcfc551b-2f77-4c38-9950-0992d4fd197d",
   "metadata": {},
   "source": [
    "The split is \"train set\" 60%, \"validation set\" 20% and \"test set\" 20%."
   ]
  },
  {
   "cell_type": "code",
   "execution_count": 30,
   "id": "5b9ac559-d252-4737-8f83-8a0afa21b60e",
   "metadata": {},
   "outputs": [],
   "source": [
    "#Now the data needs to be standardized, so the algorithms will work.\n",
    "quant = [\"metri.quadrati\",\"numero.totale.piani.edificio\",\"spese.condominiali\",\"anno.di. Costruzione\"]\n",
    "means = train_set[quant].mean()\n",
    "stds = train_set[quant].std()"
   ]
  },
  {
   "cell_type": "code",
   "execution_count": 31,
   "id": "e6ac9883-d8ce-40ec-a08d-42904182e272",
   "metadata": {},
   "outputs": [],
   "source": [
    "#This works by adding latitudine and longitudine to the variables to standardize.\n",
    "#quant = [\"metri.quadrati\",\"numero.totale.piani.edificio\",\"spese.condominiali\",\"anno.di. Costruzione\",\"Latitudine\",\"Longitudine\"]\n",
    "#means = train_set[quant].mean()\n",
    "#stds = train_set[quant].std()"
   ]
  },
  {
   "cell_type": "code",
   "execution_count": 32,
   "id": "eae0ebe4-8e06-4dfb-9919-38dca926551a",
   "metadata": {},
   "outputs": [],
   "source": [
    "def scale (series, mean, std):\n",
    "    return (series - mean[series.name])/std[series.name]\n",
    "\n",
    "train_set[quant] = train_set[quant].apply(scale, args = [means,stds])\n",
    "test_set[quant] = test_set[quant].apply(scale, args = [means,stds])\n",
    "validation_set[quant] = validation_set[quant].apply(scale, args = [means,stds])"
   ]
  },
  {
   "cell_type": "markdown",
   "id": "76457b6d-cd04-45d9-bb6c-b0dcadaeb9d1",
   "metadata": {},
   "source": [
    "### Benchmark linear model\n",
    "This is the first model: a linear regression model, with every feature."
   ]
  },
  {
   "cell_type": "code",
   "execution_count": 33,
   "id": "c724098b-772c-4763-a2e1-67b40a59de70",
   "metadata": {},
   "outputs": [
    {
     "data": {
      "text/html": [
       "<style>#sk-container-id-1 {\n",
       "  /* Definition of color scheme common for light and dark mode */\n",
       "  --sklearn-color-text: black;\n",
       "  --sklearn-color-line: gray;\n",
       "  /* Definition of color scheme for unfitted estimators */\n",
       "  --sklearn-color-unfitted-level-0: #fff5e6;\n",
       "  --sklearn-color-unfitted-level-1: #f6e4d2;\n",
       "  --sklearn-color-unfitted-level-2: #ffe0b3;\n",
       "  --sklearn-color-unfitted-level-3: chocolate;\n",
       "  /* Definition of color scheme for fitted estimators */\n",
       "  --sklearn-color-fitted-level-0: #f0f8ff;\n",
       "  --sklearn-color-fitted-level-1: #d4ebff;\n",
       "  --sklearn-color-fitted-level-2: #b3dbfd;\n",
       "  --sklearn-color-fitted-level-3: cornflowerblue;\n",
       "\n",
       "  /* Specific color for light theme */\n",
       "  --sklearn-color-text-on-default-background: var(--sg-text-color, var(--theme-code-foreground, var(--jp-content-font-color1, black)));\n",
       "  --sklearn-color-background: var(--sg-background-color, var(--theme-background, var(--jp-layout-color0, white)));\n",
       "  --sklearn-color-border-box: var(--sg-text-color, var(--theme-code-foreground, var(--jp-content-font-color1, black)));\n",
       "  --sklearn-color-icon: #696969;\n",
       "\n",
       "  @media (prefers-color-scheme: dark) {\n",
       "    /* Redefinition of color scheme for dark theme */\n",
       "    --sklearn-color-text-on-default-background: var(--sg-text-color, var(--theme-code-foreground, var(--jp-content-font-color1, white)));\n",
       "    --sklearn-color-background: var(--sg-background-color, var(--theme-background, var(--jp-layout-color0, #111)));\n",
       "    --sklearn-color-border-box: var(--sg-text-color, var(--theme-code-foreground, var(--jp-content-font-color1, white)));\n",
       "    --sklearn-color-icon: #878787;\n",
       "  }\n",
       "}\n",
       "\n",
       "#sk-container-id-1 {\n",
       "  color: var(--sklearn-color-text);\n",
       "}\n",
       "\n",
       "#sk-container-id-1 pre {\n",
       "  padding: 0;\n",
       "}\n",
       "\n",
       "#sk-container-id-1 input.sk-hidden--visually {\n",
       "  border: 0;\n",
       "  clip: rect(1px 1px 1px 1px);\n",
       "  clip: rect(1px, 1px, 1px, 1px);\n",
       "  height: 1px;\n",
       "  margin: -1px;\n",
       "  overflow: hidden;\n",
       "  padding: 0;\n",
       "  position: absolute;\n",
       "  width: 1px;\n",
       "}\n",
       "\n",
       "#sk-container-id-1 div.sk-dashed-wrapped {\n",
       "  border: 1px dashed var(--sklearn-color-line);\n",
       "  margin: 0 0.4em 0.5em 0.4em;\n",
       "  box-sizing: border-box;\n",
       "  padding-bottom: 0.4em;\n",
       "  background-color: var(--sklearn-color-background);\n",
       "}\n",
       "\n",
       "#sk-container-id-1 div.sk-container {\n",
       "  /* jupyter's `normalize.less` sets `[hidden] { display: none; }`\n",
       "     but bootstrap.min.css set `[hidden] { display: none !important; }`\n",
       "     so we also need the `!important` here to be able to override the\n",
       "     default hidden behavior on the sphinx rendered scikit-learn.org.\n",
       "     See: https://github.com/scikit-learn/scikit-learn/issues/21755 */\n",
       "  display: inline-block !important;\n",
       "  position: relative;\n",
       "}\n",
       "\n",
       "#sk-container-id-1 div.sk-text-repr-fallback {\n",
       "  display: none;\n",
       "}\n",
       "\n",
       "div.sk-parallel-item,\n",
       "div.sk-serial,\n",
       "div.sk-item {\n",
       "  /* draw centered vertical line to link estimators */\n",
       "  background-image: linear-gradient(var(--sklearn-color-text-on-default-background), var(--sklearn-color-text-on-default-background));\n",
       "  background-size: 2px 100%;\n",
       "  background-repeat: no-repeat;\n",
       "  background-position: center center;\n",
       "}\n",
       "\n",
       "/* Parallel-specific style estimator block */\n",
       "\n",
       "#sk-container-id-1 div.sk-parallel-item::after {\n",
       "  content: \"\";\n",
       "  width: 100%;\n",
       "  border-bottom: 2px solid var(--sklearn-color-text-on-default-background);\n",
       "  flex-grow: 1;\n",
       "}\n",
       "\n",
       "#sk-container-id-1 div.sk-parallel {\n",
       "  display: flex;\n",
       "  align-items: stretch;\n",
       "  justify-content: center;\n",
       "  background-color: var(--sklearn-color-background);\n",
       "  position: relative;\n",
       "}\n",
       "\n",
       "#sk-container-id-1 div.sk-parallel-item {\n",
       "  display: flex;\n",
       "  flex-direction: column;\n",
       "}\n",
       "\n",
       "#sk-container-id-1 div.sk-parallel-item:first-child::after {\n",
       "  align-self: flex-end;\n",
       "  width: 50%;\n",
       "}\n",
       "\n",
       "#sk-container-id-1 div.sk-parallel-item:last-child::after {\n",
       "  align-self: flex-start;\n",
       "  width: 50%;\n",
       "}\n",
       "\n",
       "#sk-container-id-1 div.sk-parallel-item:only-child::after {\n",
       "  width: 0;\n",
       "}\n",
       "\n",
       "/* Serial-specific style estimator block */\n",
       "\n",
       "#sk-container-id-1 div.sk-serial {\n",
       "  display: flex;\n",
       "  flex-direction: column;\n",
       "  align-items: center;\n",
       "  background-color: var(--sklearn-color-background);\n",
       "  padding-right: 1em;\n",
       "  padding-left: 1em;\n",
       "}\n",
       "\n",
       "\n",
       "/* Toggleable style: style used for estimator/Pipeline/ColumnTransformer box that is\n",
       "clickable and can be expanded/collapsed.\n",
       "- Pipeline and ColumnTransformer use this feature and define the default style\n",
       "- Estimators will overwrite some part of the style using the `sk-estimator` class\n",
       "*/\n",
       "\n",
       "/* Pipeline and ColumnTransformer style (default) */\n",
       "\n",
       "#sk-container-id-1 div.sk-toggleable {\n",
       "  /* Default theme specific background. It is overwritten whether we have a\n",
       "  specific estimator or a Pipeline/ColumnTransformer */\n",
       "  background-color: var(--sklearn-color-background);\n",
       "}\n",
       "\n",
       "/* Toggleable label */\n",
       "#sk-container-id-1 label.sk-toggleable__label {\n",
       "  cursor: pointer;\n",
       "  display: block;\n",
       "  width: 100%;\n",
       "  margin-bottom: 0;\n",
       "  padding: 0.5em;\n",
       "  box-sizing: border-box;\n",
       "  text-align: center;\n",
       "}\n",
       "\n",
       "#sk-container-id-1 label.sk-toggleable__label-arrow:before {\n",
       "  /* Arrow on the left of the label */\n",
       "  content: \"▸\";\n",
       "  float: left;\n",
       "  margin-right: 0.25em;\n",
       "  color: var(--sklearn-color-icon);\n",
       "}\n",
       "\n",
       "#sk-container-id-1 label.sk-toggleable__label-arrow:hover:before {\n",
       "  color: var(--sklearn-color-text);\n",
       "}\n",
       "\n",
       "/* Toggleable content - dropdown */\n",
       "\n",
       "#sk-container-id-1 div.sk-toggleable__content {\n",
       "  max-height: 0;\n",
       "  max-width: 0;\n",
       "  overflow: hidden;\n",
       "  text-align: left;\n",
       "  /* unfitted */\n",
       "  background-color: var(--sklearn-color-unfitted-level-0);\n",
       "}\n",
       "\n",
       "#sk-container-id-1 div.sk-toggleable__content.fitted {\n",
       "  /* fitted */\n",
       "  background-color: var(--sklearn-color-fitted-level-0);\n",
       "}\n",
       "\n",
       "#sk-container-id-1 div.sk-toggleable__content pre {\n",
       "  margin: 0.2em;\n",
       "  border-radius: 0.25em;\n",
       "  color: var(--sklearn-color-text);\n",
       "  /* unfitted */\n",
       "  background-color: var(--sklearn-color-unfitted-level-0);\n",
       "}\n",
       "\n",
       "#sk-container-id-1 div.sk-toggleable__content.fitted pre {\n",
       "  /* unfitted */\n",
       "  background-color: var(--sklearn-color-fitted-level-0);\n",
       "}\n",
       "\n",
       "#sk-container-id-1 input.sk-toggleable__control:checked~div.sk-toggleable__content {\n",
       "  /* Expand drop-down */\n",
       "  max-height: 200px;\n",
       "  max-width: 100%;\n",
       "  overflow: auto;\n",
       "}\n",
       "\n",
       "#sk-container-id-1 input.sk-toggleable__control:checked~label.sk-toggleable__label-arrow:before {\n",
       "  content: \"▾\";\n",
       "}\n",
       "\n",
       "/* Pipeline/ColumnTransformer-specific style */\n",
       "\n",
       "#sk-container-id-1 div.sk-label input.sk-toggleable__control:checked~label.sk-toggleable__label {\n",
       "  color: var(--sklearn-color-text);\n",
       "  background-color: var(--sklearn-color-unfitted-level-2);\n",
       "}\n",
       "\n",
       "#sk-container-id-1 div.sk-label.fitted input.sk-toggleable__control:checked~label.sk-toggleable__label {\n",
       "  background-color: var(--sklearn-color-fitted-level-2);\n",
       "}\n",
       "\n",
       "/* Estimator-specific style */\n",
       "\n",
       "/* Colorize estimator box */\n",
       "#sk-container-id-1 div.sk-estimator input.sk-toggleable__control:checked~label.sk-toggleable__label {\n",
       "  /* unfitted */\n",
       "  background-color: var(--sklearn-color-unfitted-level-2);\n",
       "}\n",
       "\n",
       "#sk-container-id-1 div.sk-estimator.fitted input.sk-toggleable__control:checked~label.sk-toggleable__label {\n",
       "  /* fitted */\n",
       "  background-color: var(--sklearn-color-fitted-level-2);\n",
       "}\n",
       "\n",
       "#sk-container-id-1 div.sk-label label.sk-toggleable__label,\n",
       "#sk-container-id-1 div.sk-label label {\n",
       "  /* The background is the default theme color */\n",
       "  color: var(--sklearn-color-text-on-default-background);\n",
       "}\n",
       "\n",
       "/* On hover, darken the color of the background */\n",
       "#sk-container-id-1 div.sk-label:hover label.sk-toggleable__label {\n",
       "  color: var(--sklearn-color-text);\n",
       "  background-color: var(--sklearn-color-unfitted-level-2);\n",
       "}\n",
       "\n",
       "/* Label box, darken color on hover, fitted */\n",
       "#sk-container-id-1 div.sk-label.fitted:hover label.sk-toggleable__label.fitted {\n",
       "  color: var(--sklearn-color-text);\n",
       "  background-color: var(--sklearn-color-fitted-level-2);\n",
       "}\n",
       "\n",
       "/* Estimator label */\n",
       "\n",
       "#sk-container-id-1 div.sk-label label {\n",
       "  font-family: monospace;\n",
       "  font-weight: bold;\n",
       "  display: inline-block;\n",
       "  line-height: 1.2em;\n",
       "}\n",
       "\n",
       "#sk-container-id-1 div.sk-label-container {\n",
       "  text-align: center;\n",
       "}\n",
       "\n",
       "/* Estimator-specific */\n",
       "#sk-container-id-1 div.sk-estimator {\n",
       "  font-family: monospace;\n",
       "  border: 1px dotted var(--sklearn-color-border-box);\n",
       "  border-radius: 0.25em;\n",
       "  box-sizing: border-box;\n",
       "  margin-bottom: 0.5em;\n",
       "  /* unfitted */\n",
       "  background-color: var(--sklearn-color-unfitted-level-0);\n",
       "}\n",
       "\n",
       "#sk-container-id-1 div.sk-estimator.fitted {\n",
       "  /* fitted */\n",
       "  background-color: var(--sklearn-color-fitted-level-0);\n",
       "}\n",
       "\n",
       "/* on hover */\n",
       "#sk-container-id-1 div.sk-estimator:hover {\n",
       "  /* unfitted */\n",
       "  background-color: var(--sklearn-color-unfitted-level-2);\n",
       "}\n",
       "\n",
       "#sk-container-id-1 div.sk-estimator.fitted:hover {\n",
       "  /* fitted */\n",
       "  background-color: var(--sklearn-color-fitted-level-2);\n",
       "}\n",
       "\n",
       "/* Specification for estimator info (e.g. \"i\" and \"?\") */\n",
       "\n",
       "/* Common style for \"i\" and \"?\" */\n",
       "\n",
       ".sk-estimator-doc-link,\n",
       "a:link.sk-estimator-doc-link,\n",
       "a:visited.sk-estimator-doc-link {\n",
       "  float: right;\n",
       "  font-size: smaller;\n",
       "  line-height: 1em;\n",
       "  font-family: monospace;\n",
       "  background-color: var(--sklearn-color-background);\n",
       "  border-radius: 1em;\n",
       "  height: 1em;\n",
       "  width: 1em;\n",
       "  text-decoration: none !important;\n",
       "  margin-left: 1ex;\n",
       "  /* unfitted */\n",
       "  border: var(--sklearn-color-unfitted-level-1) 1pt solid;\n",
       "  color: var(--sklearn-color-unfitted-level-1);\n",
       "}\n",
       "\n",
       ".sk-estimator-doc-link.fitted,\n",
       "a:link.sk-estimator-doc-link.fitted,\n",
       "a:visited.sk-estimator-doc-link.fitted {\n",
       "  /* fitted */\n",
       "  border: var(--sklearn-color-fitted-level-1) 1pt solid;\n",
       "  color: var(--sklearn-color-fitted-level-1);\n",
       "}\n",
       "\n",
       "/* On hover */\n",
       "div.sk-estimator:hover .sk-estimator-doc-link:hover,\n",
       ".sk-estimator-doc-link:hover,\n",
       "div.sk-label-container:hover .sk-estimator-doc-link:hover,\n",
       ".sk-estimator-doc-link:hover {\n",
       "  /* unfitted */\n",
       "  background-color: var(--sklearn-color-unfitted-level-3);\n",
       "  color: var(--sklearn-color-background);\n",
       "  text-decoration: none;\n",
       "}\n",
       "\n",
       "div.sk-estimator.fitted:hover .sk-estimator-doc-link.fitted:hover,\n",
       ".sk-estimator-doc-link.fitted:hover,\n",
       "div.sk-label-container:hover .sk-estimator-doc-link.fitted:hover,\n",
       ".sk-estimator-doc-link.fitted:hover {\n",
       "  /* fitted */\n",
       "  background-color: var(--sklearn-color-fitted-level-3);\n",
       "  color: var(--sklearn-color-background);\n",
       "  text-decoration: none;\n",
       "}\n",
       "\n",
       "/* Span, style for the box shown on hovering the info icon */\n",
       ".sk-estimator-doc-link span {\n",
       "  display: none;\n",
       "  z-index: 9999;\n",
       "  position: relative;\n",
       "  font-weight: normal;\n",
       "  right: .2ex;\n",
       "  padding: .5ex;\n",
       "  margin: .5ex;\n",
       "  width: min-content;\n",
       "  min-width: 20ex;\n",
       "  max-width: 50ex;\n",
       "  color: var(--sklearn-color-text);\n",
       "  box-shadow: 2pt 2pt 4pt #999;\n",
       "  /* unfitted */\n",
       "  background: var(--sklearn-color-unfitted-level-0);\n",
       "  border: .5pt solid var(--sklearn-color-unfitted-level-3);\n",
       "}\n",
       "\n",
       ".sk-estimator-doc-link.fitted span {\n",
       "  /* fitted */\n",
       "  background: var(--sklearn-color-fitted-level-0);\n",
       "  border: var(--sklearn-color-fitted-level-3);\n",
       "}\n",
       "\n",
       ".sk-estimator-doc-link:hover span {\n",
       "  display: block;\n",
       "}\n",
       "\n",
       "/* \"?\"-specific style due to the `<a>` HTML tag */\n",
       "\n",
       "#sk-container-id-1 a.estimator_doc_link {\n",
       "  float: right;\n",
       "  font-size: 1rem;\n",
       "  line-height: 1em;\n",
       "  font-family: monospace;\n",
       "  background-color: var(--sklearn-color-background);\n",
       "  border-radius: 1rem;\n",
       "  height: 1rem;\n",
       "  width: 1rem;\n",
       "  text-decoration: none;\n",
       "  /* unfitted */\n",
       "  color: var(--sklearn-color-unfitted-level-1);\n",
       "  border: var(--sklearn-color-unfitted-level-1) 1pt solid;\n",
       "}\n",
       "\n",
       "#sk-container-id-1 a.estimator_doc_link.fitted {\n",
       "  /* fitted */\n",
       "  border: var(--sklearn-color-fitted-level-1) 1pt solid;\n",
       "  color: var(--sklearn-color-fitted-level-1);\n",
       "}\n",
       "\n",
       "/* On hover */\n",
       "#sk-container-id-1 a.estimator_doc_link:hover {\n",
       "  /* unfitted */\n",
       "  background-color: var(--sklearn-color-unfitted-level-3);\n",
       "  color: var(--sklearn-color-background);\n",
       "  text-decoration: none;\n",
       "}\n",
       "\n",
       "#sk-container-id-1 a.estimator_doc_link.fitted:hover {\n",
       "  /* fitted */\n",
       "  background-color: var(--sklearn-color-fitted-level-3);\n",
       "}\n",
       "</style><div id=\"sk-container-id-1\" class=\"sk-top-container\"><div class=\"sk-text-repr-fallback\"><pre>LinearRegression()</pre><b>In a Jupyter environment, please rerun this cell to show the HTML representation or trust the notebook. <br />On GitHub, the HTML representation is unable to render, please try loading this page with nbviewer.org.</b></div><div class=\"sk-container\" hidden><div class=\"sk-item\"><div class=\"sk-estimator fitted sk-toggleable\"><input class=\"sk-toggleable__control sk-hidden--visually\" id=\"sk-estimator-id-1\" type=\"checkbox\" checked><label for=\"sk-estimator-id-1\" class=\"sk-toggleable__label fitted sk-toggleable__label-arrow fitted\">&nbsp;&nbsp;LinearRegression<a class=\"sk-estimator-doc-link fitted\" rel=\"noreferrer\" target=\"_blank\" href=\"https://scikit-learn.org/1.5/modules/generated/sklearn.linear_model.LinearRegression.html\">?<span>Documentation for LinearRegression</span></a><span class=\"sk-estimator-doc-link fitted\">i<span>Fitted</span></span></label><div class=\"sk-toggleable__content fitted\"><pre>LinearRegression()</pre></div> </div></div></div></div>"
      ],
      "text/plain": [
       "LinearRegression()"
      ]
     },
     "execution_count": 33,
     "metadata": {},
     "output_type": "execute_result"
    }
   ],
   "source": [
    "#Now let's start with the first model, a simple linear model, that will be the benchmark.\n",
    "from sklearn.linear_model import LinearRegression\n",
    "\n",
    "model = LinearRegression(fit_intercept=True)\n",
    "model.fit(train_set.drop(\"prezzo\",axis=1), train_set[\"prezzo\"])"
   ]
  },
  {
   "cell_type": "code",
   "execution_count": 34,
   "id": "b0f24427-76b5-4ee5-aa78-0b3db0e0af18",
   "metadata": {},
   "outputs": [
    {
     "data": {
      "text/plain": [
       "0.6806240680369287"
      ]
     },
     "execution_count": 34,
     "metadata": {},
     "output_type": "execute_result"
    }
   ],
   "source": [
    "model.score(test_set.drop(\"prezzo\",axis=1), test_set[\"prezzo\"])"
   ]
  },
  {
   "cell_type": "code",
   "execution_count": 35,
   "id": "e9c4bf06-4f98-413d-85b1-ca1e6ebb9070",
   "metadata": {},
   "outputs": [],
   "source": [
    "#Model R2 in test set\n",
    "R2bench = model.score(test_set.drop(\"prezzo\",axis=1), test_set[\"prezzo\"])"
   ]
  },
  {
   "cell_type": "markdown",
   "id": "334ad830-ec47-4b8c-b1a7-b4977f6fb4eb",
   "metadata": {},
   "source": [
    "### Forward selection\n",
    "We will try to implement a forward selection algorithm to select the best subset of features to explain house price. The selection will use the BIC score. As it needs the BIC score, the package used will be statsmodels.\n",
    "\n",
    "In hindsight, a backward selection approach would have been better, as it's more logical, given the objective is to improve the benchmark linear model by removing non relevant features."
   ]
  },
  {
   "cell_type": "code",
   "execution_count": 36,
   "id": "16b7596d-0f0b-44b9-9ed6-e0830acb36ff",
   "metadata": {},
   "outputs": [],
   "source": [
    "#These functions don't like boolean terms.\n",
    "train_set2 = train_set.copy(deep = True)\n",
    "train_set2[\"ascensore\"] = train_set2[\"ascensore\"].astype(np.int16)\n",
    "train_set2[\"disponibile\"] = train_set2[\"disponibile\"].astype(np.int16)\n",
    "train_set2[\"riscaldamento.centralizzato\"] = train_set2[\"riscaldamento.centralizzato\"].astype(np.int16)"
   ]
  },
  {
   "cell_type": "code",
   "execution_count": 37,
   "id": "fd200dac-817b-48cb-930d-a294e3cd25db",
   "metadata": {},
   "outputs": [],
   "source": [
    "import statsmodels.api as sm\n",
    "#Adding the constant term.\n",
    "train_set2 = sm.add_constant(train_set2)"
   ]
  },
  {
   "cell_type": "code",
   "execution_count": 38,
   "id": "3f6506b9-e03e-49f0-b910-3bf6c738a41f",
   "metadata": {},
   "outputs": [],
   "source": [
    "#Components we need for forward selection\n",
    "featsToCheck = [feat for feat in train_set2.columns if feat!=\"prezzo\" and feat!=\"const\"] #All the features tested in each iteration.\n",
    "featsToUse = [\"const\"] #The list of optimal features. It will be updated at each iteration, sarting from the intercept."
   ]
  },
  {
   "cell_type": "code",
   "execution_count": 39,
   "id": "96343613-2487-49a6-ae64-e87658cd5772",
   "metadata": {},
   "outputs": [
    {
     "name": "stdout",
     "output_type": "stream",
     "text": [
      "metri.quadrati :  121706.30771764726\n",
      "numero.bagni_3 :  121554.20983265886\n",
      "anno.di. Costruzione :  121480.95885845395\n",
      "ascensore :  121399.82873341997\n",
      "condizioni_nuovo / in costruzione :  121328.59715846967\n",
      "condizioni_eccellente / restaurato :  121223.27824946173\n",
      "parcheggio_aLotShared :  121165.2741623144\n",
      "parcheggio_no :  121115.46242691351\n",
      "piano_piano terra :  121082.531385835\n",
      "numero.bagni_2 :  121063.86094933306\n",
      "numero.bagni_3+ :  121016.20473926462\n",
      "piano_seminterrato :  121000.4324430442\n",
      "piano_5 :  120990.06652156603\n",
      "piano_3 :  120974.20713836045\n",
      "numero.stanze_3 :  120972.03568467117\n",
      "piano_4 :  120970.54530078254\n",
      "classe.di.efficienza.energetica_g :  120970.90891439296\n"
     ]
    }
   ],
   "source": [
    "#Let's determine the starting BIC, where there is only the const term.\n",
    "model = sm.OLS(endog = train_set2[\"prezzo\"], exog = train_set2[\"const\"])\n",
    "results = model.fit()\n",
    "lastBIC = results.bic\n",
    "\n",
    "#The cycle will go on until the addition descreses the BIC.\n",
    "while True:\n",
    "\n",
    "    #If there are no more features to be tested, break the cycle.\n",
    "    if len(featsToCheck) == 0:\n",
    "        break\n",
    "    \n",
    "    featsToCheckBIC = dict()\n",
    "    \n",
    "    for feat in featsToCheck:\n",
    "        featsTemp = featsToUse + [feat] #Temporarily extend the features used.\n",
    "    \n",
    "        #The model is fitted with all previously selected variables, + the new one we want to try.\n",
    "        model = sm.OLS(endog = train_set2[\"prezzo\"], exog = train_set2[featsTemp])\n",
    "        results = model.fit()\n",
    "        featsToCheckBIC[feat] = results.bic #We get the BIC.\n",
    "\n",
    "    print(min(featsToCheckBIC, key = featsToCheckBIC.get), \": \", min(featsToCheckBIC.values()))\n",
    "    #If there is no improvement in the BIC, stop the cycle.\n",
    "    if (min(featsToCheckBIC.values()) >= lastBIC):\n",
    "        break\n",
    "        \n",
    "    #Add the feature and make it permanent (featsToUse), and don't check it again later (featsToCheck).\n",
    "    featToAdd = min(featsToCheckBIC, key = featsToCheckBIC.get)\n",
    "    featsToUse.append(featToAdd) #The choosen feature is Added, so it becomes a permanent choice.\n",
    "    featsToCheck.remove(featToAdd) #The choosen feature is removed, so I will not be tested in the following iteration.\n",
    "    lastBIC = min(featsToCheckBIC.values())\n",
    "    "
   ]
  },
  {
   "cell_type": "code",
   "execution_count": 40,
   "id": "137c7937-3e7f-4119-82ee-64fa62746cde",
   "metadata": {},
   "outputs": [],
   "source": [
    "model = sm.OLS(endog = train_set2[\"prezzo\"], exog = train_set2[featsToUse])\n",
    "results = model.fit()"
   ]
  },
  {
   "cell_type": "code",
   "execution_count": 41,
   "id": "153f7b86-48e1-4e15-bc10-ad7e4fc67102",
   "metadata": {},
   "outputs": [],
   "source": [
    "#Matching the test set with the train set.\n",
    "test_set2 = test_set.copy(deep = True)\n",
    "test_set2[\"ascensore\"] = test_set2[\"ascensore\"].astype(np.int16)\n",
    "test_set2[\"disponibile\"] = test_set2[\"disponibile\"].astype(np.int16)\n",
    "test_set2[\"riscaldamento.centralizzato\"] = test_set2[\"riscaldamento.centralizzato\"].astype(np.int16)\n",
    "\n",
    "test_set2 = sm.add_constant(test_set2)"
   ]
  },
  {
   "cell_type": "code",
   "execution_count": 42,
   "id": "90d8accf-11c8-4a1f-a8b1-3422d7880548",
   "metadata": {},
   "outputs": [],
   "source": [
    "def getR2test (y, pred):\n",
    "    return 1 - (sum((y - pred)**2))/(sum((y - y.mean())**2))"
   ]
  },
  {
   "cell_type": "code",
   "execution_count": 43,
   "id": "c9981214-48ad-4d99-ae8b-ad029f602824",
   "metadata": {},
   "outputs": [],
   "source": [
    "R2linFS = getR2test(test_set2[\"prezzo\"], results.predict(test_set2[featsToUse]))"
   ]
  },
  {
   "cell_type": "code",
   "execution_count": 44,
   "id": "a29cf201-013f-43aa-8c6f-f4679d367d76",
   "metadata": {},
   "outputs": [
    {
     "data": {
      "text/html": [
       "<div>\n",
       "<style scoped>\n",
       "    .dataframe tbody tr th:only-of-type {\n",
       "        vertical-align: middle;\n",
       "    }\n",
       "\n",
       "    .dataframe tbody tr th {\n",
       "        vertical-align: top;\n",
       "    }\n",
       "\n",
       "    .dataframe thead th {\n",
       "        text-align: right;\n",
       "    }\n",
       "</style>\n",
       "<table border=\"1\" class=\"dataframe\">\n",
       "  <thead>\n",
       "    <tr style=\"text-align: right;\">\n",
       "      <th></th>\n",
       "      <th>model</th>\n",
       "      <th>R2 test set</th>\n",
       "    </tr>\n",
       "  </thead>\n",
       "  <tbody>\n",
       "    <tr>\n",
       "      <th>0</th>\n",
       "      <td>Linear model (benchmark)</td>\n",
       "      <td>0.680624</td>\n",
       "    </tr>\n",
       "    <tr>\n",
       "      <th>1</th>\n",
       "      <td>Linear model FS</td>\n",
       "      <td>0.676650</td>\n",
       "    </tr>\n",
       "  </tbody>\n",
       "</table>\n",
       "</div>"
      ],
      "text/plain": [
       "                      model  R2 test set\n",
       "0  Linear model (benchmark)     0.680624\n",
       "1           Linear model FS     0.676650"
      ]
     },
     "execution_count": 44,
     "metadata": {},
     "output_type": "execute_result"
    }
   ],
   "source": [
    "#Let's save these results.\n",
    "modResults = pd.DataFrame({\"model\":[\"Linear model (benchmark)\",\"Linear model FS\"], \"R2 test set\":[R2bench,R2linFS]})\n",
    "modResults\n",
    "#The performance got worse actually."
   ]
  },
  {
   "cell_type": "markdown",
   "id": "101fa98a-eea2-416e-849f-ad64e789a804",
   "metadata": {},
   "source": [
    "### Random forest model\n"
   ]
  },
  {
   "cell_type": "code",
   "execution_count": 45,
   "id": "c765cff4-6491-411b-aff7-a6b678f75f70",
   "metadata": {},
   "outputs": [],
   "source": [
    "from sklearn.ensemble import RandomForestRegressor\n",
    "\n",
    "#The datasets have already been defined: it's the train_set2 and test_set2. As the is the need to regulate, now also validation will be used.\n",
    "train_set2 = train_set.copy(deep = True)\n",
    "train_set2[\"ascensore\"] = train_set2[\"ascensore\"].astype(np.int16)\n",
    "train_set2[\"disponibile\"] = train_set2[\"disponibile\"].astype(np.int16)\n",
    "train_set2[\"riscaldamento.centralizzato\"] = train_set2[\"riscaldamento.centralizzato\"].astype(np.int16)\n",
    "\n",
    "test_set2 = test_set.copy(deep = True)\n",
    "test_set2[\"ascensore\"] = test_set2[\"ascensore\"].astype(np.int16)\n",
    "test_set2[\"disponibile\"] = test_set2[\"disponibile\"].astype(np.int16)\n",
    "test_set2[\"riscaldamento.centralizzato\"] = test_set2[\"riscaldamento.centralizzato\"].astype(np.int16)\n",
    "\n",
    "validation_set2 = validation_set.copy(deep = True)\n",
    "validation_set2[\"ascensore\"] = validation_set2[\"ascensore\"].astype(np.int16)\n",
    "validation_set2[\"disponibile\"] = validation_set2[\"disponibile\"].astype(np.int16)\n",
    "validation_set2[\"riscaldamento.centralizzato\"] = validation_set2[\"riscaldamento.centralizzato\"].astype(np.int16)"
   ]
  },
  {
   "cell_type": "code",
   "execution_count": 46,
   "id": "7b231360-6532-4d25-8bce-cd6a49503d79",
   "metadata": {},
   "outputs": [],
   "source": [
    "rf = RandomForestRegressor(n_estimators=120, random_state=0, oob_score=True)\n",
    "resultsRF = rf.fit(train_set2.drop(\"prezzo\",axis=1), train_set2[\"prezzo\"])"
   ]
  },
  {
   "cell_type": "code",
   "execution_count": 47,
   "id": "ace48c76-773b-4dc8-a71a-314201ff98f5",
   "metadata": {},
   "outputs": [],
   "source": [
    "modResults.loc[len(modResults.index)] = [\"RF benchmark\", resultsRF.score(test_set2.drop(\"prezzo\",axis=1), test_set2[\"prezzo\"])]"
   ]
  },
  {
   "cell_type": "code",
   "execution_count": 48,
   "id": "a594e9a3-86ca-4955-ad73-75bb5a42a36c",
   "metadata": {},
   "outputs": [
    {
     "data": {
      "text/html": [
       "<div>\n",
       "<style scoped>\n",
       "    .dataframe tbody tr th:only-of-type {\n",
       "        vertical-align: middle;\n",
       "    }\n",
       "\n",
       "    .dataframe tbody tr th {\n",
       "        vertical-align: top;\n",
       "    }\n",
       "\n",
       "    .dataframe thead th {\n",
       "        text-align: right;\n",
       "    }\n",
       "</style>\n",
       "<table border=\"1\" class=\"dataframe\">\n",
       "  <thead>\n",
       "    <tr style=\"text-align: right;\">\n",
       "      <th></th>\n",
       "      <th>model</th>\n",
       "      <th>R2 test set</th>\n",
       "    </tr>\n",
       "  </thead>\n",
       "  <tbody>\n",
       "    <tr>\n",
       "      <th>0</th>\n",
       "      <td>Linear model (benchmark)</td>\n",
       "      <td>0.680624</td>\n",
       "    </tr>\n",
       "    <tr>\n",
       "      <th>1</th>\n",
       "      <td>Linear model FS</td>\n",
       "      <td>0.676650</td>\n",
       "    </tr>\n",
       "    <tr>\n",
       "      <th>2</th>\n",
       "      <td>RF benchmark</td>\n",
       "      <td>0.738691</td>\n",
       "    </tr>\n",
       "  </tbody>\n",
       "</table>\n",
       "</div>"
      ],
      "text/plain": [
       "                      model  R2 test set\n",
       "0  Linear model (benchmark)     0.680624\n",
       "1           Linear model FS     0.676650\n",
       "2              RF benchmark     0.738691"
      ]
     },
     "execution_count": 48,
     "metadata": {},
     "output_type": "execute_result"
    }
   ],
   "source": [
    "modResults"
   ]
  },
  {
   "cell_type": "markdown",
   "id": "af7e5dff-6896-4989-a694-53422b281c0a",
   "metadata": {},
   "source": [
    "### Regulated Random Forest\n",
    "To regulate the random forest, the number of trees will be kept the same, but the number of features considered for each split will be increased."
   ]
  },
  {
   "cell_type": "code",
   "execution_count": 49,
   "id": "a1961765-75d6-4bcc-ade3-c090bd2cdb88",
   "metadata": {},
   "outputs": [],
   "source": [
    "nFeats = range(1, train_set2.shape[1], 3)\n",
    "RegulationResults = pd.DataFrame({\"nFeats\":nFeats, \"R2 val set\": np.full(shape=len(nFeats), fill_value=np.nan)})"
   ]
  },
  {
   "cell_type": "code",
   "execution_count": 50,
   "id": "1e2f0c50-5b7a-4d3d-9f36-d890e977ebf5",
   "metadata": {},
   "outputs": [
    {
     "name": "stdout",
     "output_type": "stream",
     "text": [
      "Working on  1  ...\n",
      "Working on  4  ...\n",
      "Working on  7  ...\n",
      "Working on  10  ...\n",
      "Working on  13  ...\n",
      "Working on  16  ...\n",
      "Working on  19  ...\n",
      "Working on  22  ...\n",
      "Working on  25  ...\n",
      "Working on  28  ...\n",
      "Working on  31  ...\n",
      "Working on  34  ...\n",
      "Working on  37  ...\n",
      "Working on  40  ...\n"
     ]
    }
   ],
   "source": [
    "for n in nFeats:\n",
    "    print(\"Working on \",n,\" ...\")\n",
    "    rf = RandomForestRegressor(n_estimators=120, random_state=0, oob_score=True, max_features = n)\n",
    "    resultsRF = rf.fit(train_set2.drop(\"prezzo\",axis=1), train_set2[\"prezzo\"])\n",
    "    RegulationResults.loc[RegulationResults[\"nFeats\"] == n, \"R2 val set\"] = resultsRF.score(validation_set2.drop(\"prezzo\",axis=1), validation_set2[\"prezzo\"])"
   ]
  },
  {
   "cell_type": "code",
   "execution_count": 51,
   "id": "57f0b822-246f-4cab-9b11-f6542ffcfd17",
   "metadata": {},
   "outputs": [],
   "source": [
    "bestSplit = RegulationResults.loc[RegulationResults[\"R2 val set\"] == RegulationResults[\"R2 val set\"].max(), \"nFeats\"].iloc[0]"
   ]
  },
  {
   "cell_type": "code",
   "execution_count": 52,
   "id": "e96b0511-991f-46fe-ae81-fbd113b23b99",
   "metadata": {},
   "outputs": [],
   "source": [
    "rf = RandomForestRegressor(n_estimators=120, random_state=0, oob_score=True, max_features = bestSplit)\n",
    "resultsRF = rf.fit(train_set2.drop(\"prezzo\",axis=1), train_set2[\"prezzo\"])"
   ]
  },
  {
   "cell_type": "code",
   "execution_count": 53,
   "id": "f9df7bdc-150a-4b47-ba21-fb0ced3ce80b",
   "metadata": {},
   "outputs": [],
   "source": [
    "resultsRFregulated = rf.score(test_set2.drop(\"prezzo\",axis=1), test_set2[\"prezzo\"])"
   ]
  },
  {
   "cell_type": "code",
   "execution_count": 54,
   "id": "049451eb-a65d-423c-a896-146ad705bc0d",
   "metadata": {},
   "outputs": [],
   "source": [
    "modResults.loc[len(modResults.index)] = [\"RF regulated\", resultsRFregulated]"
   ]
  },
  {
   "cell_type": "code",
   "execution_count": 55,
   "id": "3363f94a-00ce-4af3-8c26-584d2f626498",
   "metadata": {},
   "outputs": [
    {
     "data": {
      "text/html": [
       "<div>\n",
       "<style scoped>\n",
       "    .dataframe tbody tr th:only-of-type {\n",
       "        vertical-align: middle;\n",
       "    }\n",
       "\n",
       "    .dataframe tbody tr th {\n",
       "        vertical-align: top;\n",
       "    }\n",
       "\n",
       "    .dataframe thead th {\n",
       "        text-align: right;\n",
       "    }\n",
       "</style>\n",
       "<table border=\"1\" class=\"dataframe\">\n",
       "  <thead>\n",
       "    <tr style=\"text-align: right;\">\n",
       "      <th></th>\n",
       "      <th>model</th>\n",
       "      <th>R2 test set</th>\n",
       "    </tr>\n",
       "  </thead>\n",
       "  <tbody>\n",
       "    <tr>\n",
       "      <th>0</th>\n",
       "      <td>Linear model (benchmark)</td>\n",
       "      <td>0.680624</td>\n",
       "    </tr>\n",
       "    <tr>\n",
       "      <th>1</th>\n",
       "      <td>Linear model FS</td>\n",
       "      <td>0.676650</td>\n",
       "    </tr>\n",
       "    <tr>\n",
       "      <th>2</th>\n",
       "      <td>RF benchmark</td>\n",
       "      <td>0.738691</td>\n",
       "    </tr>\n",
       "    <tr>\n",
       "      <th>3</th>\n",
       "      <td>RF regulated</td>\n",
       "      <td>0.751167</td>\n",
       "    </tr>\n",
       "  </tbody>\n",
       "</table>\n",
       "</div>"
      ],
      "text/plain": [
       "                      model  R2 test set\n",
       "0  Linear model (benchmark)     0.680624\n",
       "1           Linear model FS     0.676650\n",
       "2              RF benchmark     0.738691\n",
       "3              RF regulated     0.751167"
      ]
     },
     "execution_count": 55,
     "metadata": {},
     "output_type": "execute_result"
    }
   ],
   "source": [
    "modResults"
   ]
  },
  {
   "cell_type": "markdown",
   "id": "58f3d3c0-3ff8-4d45-9830-a5ed5a244132",
   "metadata": {},
   "source": [
    "### Gradient boosting\n",
    "The next model is the gradient boosting.\n",
    "The usual approach would be to set the shrink parameter (the learning rate), and then regulate the number and depth of trees. Usually a smaller learning rate is to be preferred, so there is no need to regulate it.\n",
    "\n",
    "By setting the number of trees, the attempt is to find the best learning rate, so the best option when limiting the time we want the algorithm to run for (decided by number of trees and depth)."
   ]
  },
  {
   "cell_type": "code",
   "execution_count": 56,
   "id": "58a05578-74b1-498f-bad4-1136899de03a",
   "metadata": {},
   "outputs": [],
   "source": [
    "from sklearn.ensemble import GradientBoostingRegressor"
   ]
  },
  {
   "cell_type": "code",
   "execution_count": 57,
   "id": "f565bf49-700e-4494-8de9-3f66cbec0cad",
   "metadata": {},
   "outputs": [],
   "source": [
    "shrink = [x/100 for x in range(1, 10, 2)]\n",
    "depth = range(1,5,1)\n",
    "grid = pd.DataFrame({\"shrink\":np.repeat([x for x in shrink], len(depth)),\"depth\":np.tile([x for x in depth], len(shrink))})\n",
    "RegulationResults = pd.DataFrame({\"Shrink\":grid[\"shrink\"],\n",
    "                                  \"Depth\":grid[\"depth\"],\n",
    "                                  \"R2 val set\": np.full(shape=grid.shape[0], fill_value=np.nan)})"
   ]
  },
  {
   "cell_type": "code",
   "execution_count": 58,
   "id": "676cdc4b-74b2-46cf-97fb-059baf117a2a",
   "metadata": {},
   "outputs": [
    {
     "name": "stdout",
     "output_type": "stream",
     "text": [
      "Working on:  0\n",
      "Working on:  1\n",
      "Working on:  2\n",
      "Working on:  3\n",
      "Working on:  4\n",
      "Working on:  5\n",
      "Working on:  6\n",
      "Working on:  7\n",
      "Working on:  8\n",
      "Working on:  9\n",
      "Working on:  10\n",
      "Working on:  11\n",
      "Working on:  12\n",
      "Working on:  13\n",
      "Working on:  14\n",
      "Working on:  15\n",
      "Working on:  16\n",
      "Working on:  17\n",
      "Working on:  18\n",
      "Working on:  19\n"
     ]
    }
   ],
   "source": [
    "for reg in range(0,grid.shape[0]):\n",
    "    print(\"Working on: \", reg)\n",
    "    gb = GradientBoostingRegressor(n_estimators=1500, random_state=0, learning_rate=grid.loc[reg,\"shrink\"], max_depth=grid.loc[reg,\"depth\"])\n",
    "    resultsGB = gb.fit(train_set2.drop(\"prezzo\",axis=1), train_set2[\"prezzo\"])\n",
    "    RegulationResults.loc[reg, \"R2 val set\"] = resultsGB.score(validation_set2.drop(\"prezzo\",axis=1), validation_set2[\"prezzo\"])"
   ]
  },
  {
   "cell_type": "code",
   "execution_count": 59,
   "id": "8e5f3677-3f60-43f0-9213-fe5e9b32fbe0",
   "metadata": {},
   "outputs": [],
   "source": [
    "bestLine = RegulationResults.loc[RegulationResults[\"R2 val set\"] == RegulationResults[\"R2 val set\"].max(),]"
   ]
  },
  {
   "cell_type": "code",
   "execution_count": 60,
   "id": "332cfd60-e3d2-46e2-9bb9-4d6e6cb89f68",
   "metadata": {},
   "outputs": [
    {
     "data": {
      "text/plain": [
       "Shrink        0.030000\n",
       "Depth         4.000000\n",
       "R2 val set    0.776622\n",
       "Name: 7, dtype: float64"
      ]
     },
     "execution_count": 60,
     "metadata": {},
     "output_type": "execute_result"
    }
   ],
   "source": [
    "bestLine.iloc[0]"
   ]
  },
  {
   "cell_type": "code",
   "execution_count": 61,
   "id": "a8968e67-37ec-449a-b6dd-0f6549dce1a9",
   "metadata": {},
   "outputs": [],
   "source": [
    "gb = GradientBoostingRegressor(n_estimators=1000, random_state=0, learning_rate=bestLine[\"Shrink\"].iloc[0], max_depth=bestLine[\"Depth\"].iloc[0])\n",
    "resultsGB = gb.fit(train_set2.drop(\"prezzo\",axis=1), train_set2[\"prezzo\"])\n",
    "resultsGBregulated = resultsGB.score(test_set2.drop(\"prezzo\",axis=1), test_set2[\"prezzo\"])"
   ]
  },
  {
   "cell_type": "code",
   "execution_count": 62,
   "id": "7c06d885-f181-4a98-99cd-59b3f7779d92",
   "metadata": {},
   "outputs": [
    {
     "data": {
      "text/plain": [
       "0.7583472013605038"
      ]
     },
     "execution_count": 62,
     "metadata": {},
     "output_type": "execute_result"
    }
   ],
   "source": [
    "resultsGBregulated"
   ]
  },
  {
   "cell_type": "code",
   "execution_count": 63,
   "id": "c77ef409-8e37-485b-80fd-b618db28841b",
   "metadata": {},
   "outputs": [],
   "source": [
    "modResults.loc[len(modResults.index)] = [\"GB regulated\", resultsGBregulated]"
   ]
  },
  {
   "cell_type": "code",
   "execution_count": 64,
   "id": "e9ac91d5-0aa9-4c68-bbf1-3aaa848ef124",
   "metadata": {},
   "outputs": [
    {
     "data": {
      "text/html": [
       "<div>\n",
       "<style scoped>\n",
       "    .dataframe tbody tr th:only-of-type {\n",
       "        vertical-align: middle;\n",
       "    }\n",
       "\n",
       "    .dataframe tbody tr th {\n",
       "        vertical-align: top;\n",
       "    }\n",
       "\n",
       "    .dataframe thead th {\n",
       "        text-align: right;\n",
       "    }\n",
       "</style>\n",
       "<table border=\"1\" class=\"dataframe\">\n",
       "  <thead>\n",
       "    <tr style=\"text-align: right;\">\n",
       "      <th></th>\n",
       "      <th>model</th>\n",
       "      <th>R2 test set</th>\n",
       "    </tr>\n",
       "  </thead>\n",
       "  <tbody>\n",
       "    <tr>\n",
       "      <th>0</th>\n",
       "      <td>Linear model (benchmark)</td>\n",
       "      <td>0.680624</td>\n",
       "    </tr>\n",
       "    <tr>\n",
       "      <th>1</th>\n",
       "      <td>Linear model FS</td>\n",
       "      <td>0.676650</td>\n",
       "    </tr>\n",
       "    <tr>\n",
       "      <th>2</th>\n",
       "      <td>RF benchmark</td>\n",
       "      <td>0.738691</td>\n",
       "    </tr>\n",
       "    <tr>\n",
       "      <th>3</th>\n",
       "      <td>RF regulated</td>\n",
       "      <td>0.751167</td>\n",
       "    </tr>\n",
       "    <tr>\n",
       "      <th>4</th>\n",
       "      <td>GB regulated</td>\n",
       "      <td>0.758347</td>\n",
       "    </tr>\n",
       "  </tbody>\n",
       "</table>\n",
       "</div>"
      ],
      "text/plain": [
       "                      model  R2 test set\n",
       "0  Linear model (benchmark)     0.680624\n",
       "1           Linear model FS     0.676650\n",
       "2              RF benchmark     0.738691\n",
       "3              RF regulated     0.751167\n",
       "4              GB regulated     0.758347"
      ]
     },
     "execution_count": 64,
     "metadata": {},
     "output_type": "execute_result"
    }
   ],
   "source": [
    "modResults"
   ]
  },
  {
   "cell_type": "markdown",
   "id": "5f3b7941-ff89-4c31-b368-a3b00fe4a9d4",
   "metadata": {},
   "source": [
    "### Possible improvements\n",
    "The model could be further improved by increasing the allowed depth of the trees, and by regulating the number of trees, and not the shrink parameter. This is because the results indicate that, within the same learning rate level, the increase in depth improves the results.\n",
    "\n",
    "This could mean one of two things:\n",
    "* The interations between variables are really important, so we could try with deeper trees, or\n",
    "* the number of trees is too low, and the GB models that do well are those that use the most complex trees.\n",
    "\n",
    "These improvements could be easily applied, but the objective of this excercise is to acquire familiarity with the functions used in python. This could be easily done, but it will take time in terms of computational cost."
   ]
  },
  {
   "cell_type": "markdown",
   "id": "52ff78fc-18fc-4e35-83c4-5a25927fa826",
   "metadata": {},
   "source": [
    "### Deep Neural Network\n",
    "Many different models could be tried, but I wanted to focus on different logics. The last one tried will be deep neural networks.\n",
    "For the regulation, L1 penalization and dropout have been tried, with regulation done on the validation set. The size and activation functions of the neural network have been fixed, as it's usually sone in pratice. Additionally, early stopping has been implemented to improve the regularization, and finding the optimal number of epochs.\n",
    "\n",
    "For optimal results, the models should be retrained with different starting points, to make sure the global minima is reached each and every time. Adding a for loop would be easy, but due to time constraints, this will be skipped."
   ]
  },
  {
   "cell_type": "code",
   "execution_count": 65,
   "id": "bb4fd230-d662-4b9e-a83f-ed3d7dbf6df9",
   "metadata": {},
   "outputs": [],
   "source": [
    "#The libraries need for the neural networks.\n",
    "import keras\n",
    "from tensorflow.keras.models import Sequential\n",
    "from tensorflow.keras.layers import Dense\n",
    "from tensorflow.keras import initializers\n",
    "from tensorflow.keras import callbacks\n",
    "from keras import regularizers\n",
    "from tensorflow.random import set_seed as tf_set_seed\n",
    "import random "
   ]
  },
  {
   "cell_type": "code",
   "execution_count": 66,
   "id": "7951b7e7-5f9a-44cc-97c9-b89bb4dfc012",
   "metadata": {},
   "outputs": [],
   "source": [
    "#For the visualization\n",
    "import matplotlib.pyplot as plt"
   ]
  },
  {
   "cell_type": "code",
   "execution_count": 67,
   "id": "c1770a45-b53c-4867-8cd5-40130223f7ee",
   "metadata": {},
   "outputs": [],
   "source": [
    "#To allow to re-estimate the neural networks.\n",
    "random.seed(1)\n",
    "np.random.seed(1)\n",
    "tf_set_seed(1)\n",
    "keras.utils.set_random_seed(1)"
   ]
  },
  {
   "cell_type": "code",
   "execution_count": 68,
   "id": "57243246-aaaa-4423-942f-f4e6a5cb41d4",
   "metadata": {},
   "outputs": [],
   "source": [
    "def create_modelL1(size, n_input, L1, seed):\n",
    "    #Per rendere la stima replicabile\n",
    "    random.seed(seed)\n",
    "    seeds= genSeeds(4)\n",
    "    \n",
    "    #Struttura del modello\n",
    "    model = Sequential()\n",
    "    model.add(keras.Input(shape=(n_input,)))\n",
    "    model.add(Dense(size[0], activation =\"relu\", name=\"Hidden1\", kernel_initializer=initializers.RandomNormal(seed = seeds[0]),\n",
    "                   kernel_regularizer=regularizers.L1(L1)))\n",
    "    model.add(Dense(size[1], activation='relu', name=\"Hidden2\", kernel_initializer=initializers.RandomNormal(seed = seeds[1]),\n",
    "                   kernel_regularizer=regularizers.L1(L1)))\n",
    "    model.add(Dense(size[2], activation='relu', name=\"Hidden3\", kernel_initializer=initializers.RandomNormal(seed = seeds[2]),\n",
    "                   kernel_regularizer=regularizers.L1(L1)))\n",
    "    model.add(Dense(1, activation=\"linear\", name=\"Output\", kernel_initializer=initializers.RandomNormal(seed = seeds[3])))\n",
    "    #The regularization is usually not applied to the output layer.\n",
    "\n",
    "    #Metodo di stima da utilizzare\n",
    "    model.compile(loss='mean_squared_error', optimizer='Adam', metrics = [\"mean_squared_error\"])\n",
    "    \n",
    "    return model "
   ]
  },
  {
   "cell_type": "code",
   "execution_count": 69,
   "id": "eaf76482-5d04-4914-a09f-98f078c841e9",
   "metadata": {},
   "outputs": [],
   "source": [
    "def genSeeds(n):\n",
    "    seeds = []\n",
    "    for i in range(0,n):\n",
    "        seeds.append(int(random.random()*10000))\n",
    "    return seeds"
   ]
  },
  {
   "cell_type": "code",
   "execution_count": 70,
   "id": "77a1b5cf-e4ad-43b2-93b9-f2b0c1b30ee2",
   "metadata": {},
   "outputs": [
    {
     "name": "stdout",
     "output_type": "stream",
     "text": [
      "Worked on L1 weight 31622.776601683792 : 572 epochs\n",
      "Worked on L1 weight 100000.0 : 369 epochs\n",
      "Worked on L1 weight 316227.7660168379 : 734 epochs\n",
      "Worked on L1 weight 1000000.0 : 541 epochs\n",
      "Worked on L1 weight 3162277.6601683795 : 1000 epochs\n",
      "Worked on L1 weight 10000000.0 : 1000 epochs\n",
      "Worked on L1 weight 31622776.60168379 : 1000 epochs\n"
     ]
    },
    {
     "data": {
      "text/plain": [
       "[44649721856.0,\n",
       " 43577745408.0,\n",
       " 44090511360.0,\n",
       " 46685921280.0,\n",
       " 52131311616.0,\n",
       " 53253816320.0,\n",
       " 54343868416.0]"
      ]
     },
     "execution_count": 70,
     "metadata": {},
     "output_type": "execute_result"
    }
   ],
   "source": [
    "#Let's try to regularized using the L1 penalty.\n",
    "L1penalties = [10**i for i in [i/10 for i in range(45,80,5)]] #The weights tried for the L1 penalties. This range has been found through many trials.\n",
    "L1results = []\n",
    "\n",
    "seeds = genSeeds(len(L1penalties))\n",
    "bestEpochs = []\n",
    "\n",
    "\n",
    "for L1 in L1penalties:\n",
    "    model_nn = create_modelL1([200,200,200],train_set.shape[1] - 1,L1, seeds[L1penalties.index(L1)])\n",
    "    storia = model_nn.fit(x = train_set.drop(\"prezzo\", axis = 1), y = train_set[\"prezzo\"],\n",
    "                      batch_size = 64 , epochs = 1000,\n",
    "                      validation_data=(validation_set.drop(\"prezzo\", axis = 1),validation_set[\"prezzo\"]), verbose =0,\n",
    "                      callbacks = callbacks.EarlyStopping(monitor =\"val_mean_squared_error\", min_delta =0, patience =10))\n",
    "    print(\"Worked on L1 weight\",L1,\":\",len(storia.history[\"val_mean_squared_error\"]) ,\"epochs\")\n",
    "    L1results.append(min(storia.history[\"val_mean_squared_error\"]))\n",
    "    bestEpochs.append(storia.history[\"val_mean_squared_error\"].index(min(storia.history[\"val_mean_squared_error\"])) + 1)\n",
    "\n",
    "L1results"
   ]
  },
  {
   "cell_type": "code",
   "execution_count": 71,
   "id": "f1c19b6f-076b-4e12-b38a-7aa109a1232f",
   "metadata": {},
   "outputs": [
    {
     "data": {
      "text/plain": [
       "[562, 359, 724, 531, 1000, 1000, 1000]"
      ]
     },
     "execution_count": 71,
     "metadata": {},
     "output_type": "execute_result"
    }
   ],
   "source": [
    "bestEpochs"
   ]
  },
  {
   "cell_type": "code",
   "execution_count": 72,
   "id": "5a6bf880-5f6f-4049-b6b9-707d8ce19bfb",
   "metadata": {},
   "outputs": [],
   "source": [
    "model_nn = create_modelL1([200,200,200],train_set.shape[1] - 1,L1penalties[L1results.index(min(L1results))], seeds[L1results.index(min(L1results))])\n",
    "storia = model_nn.fit(x = train_set.drop(\"prezzo\", axis = 1), y = train_set[\"prezzo\"],\n",
    "                      batch_size = 64 , epochs = bestEpochs[L1results.index(min(L1results))],\n",
    "                      validation_data=(validation_set.drop(\"prezzo\", axis = 1),validation_set[\"prezzo\"]), verbose =0)"
   ]
  },
  {
   "cell_type": "code",
   "execution_count": 73,
   "id": "7715ee41-fde1-4220-b432-65693d4fe0a0",
   "metadata": {},
   "outputs": [
    {
     "data": {
      "text/plain": [
       "43577745408.0"
      ]
     },
     "execution_count": 73,
     "metadata": {},
     "output_type": "execute_result"
    }
   ],
   "source": [
    "storia.history[\"val_mean_squared_error\"][len(storia.history[\"val_mean_squared_error\"]) - 1]"
   ]
  },
  {
   "cell_type": "code",
   "execution_count": 74,
   "id": "40e63b2c-de41-43bf-829d-afcba1bf32df",
   "metadata": {},
   "outputs": [
    {
     "data": {
      "image/png": "[encoded data removed]",
      "text/plain": [
       "<Figure size 640x480 with 1 Axes>"
      ]
     },
     "metadata": {},
     "output_type": "display_data"
    }
   ],
   "source": [
    "plt.plot(storia.history[\"val_mean_squared_error\"], label =\"val set MSE\")\n",
    "plt.plot(storia.history[\"mean_squared_error\"], label =\"train set MSE\")\n",
    "plt.title(\"History\")\n",
    "plt.xlabel(\"Epoche\")\n",
    "plt.ylabel(\"MSE\")\n",
    "plt.legend(loc='upper right')\n",
    "plt.show()"
   ]
  },
  {
   "cell_type": "code",
   "execution_count": 75,
   "id": "2e3f3edf-12b6-47d8-8d89-0e81b0dc0ff9",
   "metadata": {},
   "outputs": [
    {
     "data": {
      "text/plain": [
       "0.722501916192118"
      ]
     },
     "execution_count": 75,
     "metadata": {},
     "output_type": "execute_result"
    }
   ],
   "source": [
    "fit = model_nn.predict(x=test_set.drop(\"prezzo\", axis = 1), verbose = 0).flatten()\n",
    "SSE = ((test_set[\"prezzo\"].to_numpy() - fit)**2).sum()\n",
    "DEV = ((test_set[\"prezzo\"].to_numpy() - test_set[\"prezzo\"].mean())**2).sum()\n",
    "R2_nn = 1 - SSE/DEV\n",
    "R2_nn"
   ]
  },
  {
   "cell_type": "code",
   "execution_count": 76,
   "id": "29aace20-a40f-4bef-9186-6ffe88d8fb1a",
   "metadata": {},
   "outputs": [],
   "source": [
    "modResults.loc[len(modResults.index)] = [\"NN L1 pen\", R2_nn]"
   ]
  },
  {
   "cell_type": "code",
   "execution_count": 77,
   "id": "8e2e5029-5d7c-4c86-862b-9b6ed8ef7a62",
   "metadata": {},
   "outputs": [
    {
     "data": {
      "text/html": [
       "<div>\n",
       "<style scoped>\n",
       "    .dataframe tbody tr th:only-of-type {\n",
       "        vertical-align: middle;\n",
       "    }\n",
       "\n",
       "    .dataframe tbody tr th {\n",
       "        vertical-align: top;\n",
       "    }\n",
       "\n",
       "    .dataframe thead th {\n",
       "        text-align: right;\n",
       "    }\n",
       "</style>\n",
       "<table border=\"1\" class=\"dataframe\">\n",
       "  <thead>\n",
       "    <tr style=\"text-align: right;\">\n",
       "      <th></th>\n",
       "      <th>model</th>\n",
       "      <th>R2 test set</th>\n",
       "    </tr>\n",
       "  </thead>\n",
       "  <tbody>\n",
       "    <tr>\n",
       "      <th>0</th>\n",
       "      <td>Linear model (benchmark)</td>\n",
       "      <td>0.680624</td>\n",
       "    </tr>\n",
       "    <tr>\n",
       "      <th>1</th>\n",
       "      <td>Linear model FS</td>\n",
       "      <td>0.676650</td>\n",
       "    </tr>\n",
       "    <tr>\n",
       "      <th>2</th>\n",
       "      <td>RF benchmark</td>\n",
       "      <td>0.738691</td>\n",
       "    </tr>\n",
       "    <tr>\n",
       "      <th>3</th>\n",
       "      <td>RF regulated</td>\n",
       "      <td>0.751167</td>\n",
       "    </tr>\n",
       "    <tr>\n",
       "      <th>4</th>\n",
       "      <td>GB regulated</td>\n",
       "      <td>0.758347</td>\n",
       "    </tr>\n",
       "    <tr>\n",
       "      <th>5</th>\n",
       "      <td>NN L1 pen</td>\n",
       "      <td>0.722502</td>\n",
       "    </tr>\n",
       "  </tbody>\n",
       "</table>\n",
       "</div>"
      ],
      "text/plain": [
       "                      model  R2 test set\n",
       "0  Linear model (benchmark)     0.680624\n",
       "1           Linear model FS     0.676650\n",
       "2              RF benchmark     0.738691\n",
       "3              RF regulated     0.751167\n",
       "4              GB regulated     0.758347\n",
       "5                 NN L1 pen     0.722502"
      ]
     },
     "execution_count": 77,
     "metadata": {},
     "output_type": "execute_result"
    }
   ],
   "source": [
    "modResults"
   ]
  },
  {
   "cell_type": "markdown",
   "id": "85a041cf-193c-47c0-bbfd-b5a53eac3ed8",
   "metadata": {},
   "source": [
    "### NN dropout\n",
    "The dropout regularization will be tested."
   ]
  },
  {
   "cell_type": "code",
   "execution_count": 78,
   "id": "896d54bd-b865-4a72-a752-7f17d3f19294",
   "metadata": {},
   "outputs": [],
   "source": [
    "from tensorflow.keras.layers import Dropout"
   ]
  },
  {
   "cell_type": "code",
   "execution_count": 79,
   "id": "5023fdad-d804-4d40-b593-a08641213c1a",
   "metadata": {},
   "outputs": [],
   "source": [
    "def create_modelDrop(size, n_input, drop, seed):\n",
    "    #Per rendere la stima replicabile\n",
    "    random.seed(seed)\n",
    "    seeds= genSeeds(4)\n",
    "    \n",
    "    #Struttura del modello\n",
    "    model = Sequential()\n",
    "    model.add(keras.Input(shape=(n_input,)))\n",
    "    model.add(Dense(size[0], activation =\"relu\", name=\"Hidden1\", kernel_initializer=initializers.RandomNormal(seed = seeds[0]),\n",
    "                   kernel_regularizer=regularizers.L1(L1)))\n",
    "    model.add(Dropout(drop))\n",
    "    model.add(Dense(size[1], activation='relu', name=\"Hidden2\", kernel_initializer=initializers.RandomNormal(seed = seeds[1]),\n",
    "                   kernel_regularizer=regularizers.L1(L1)))\n",
    "    model.add(Dropout(drop))\n",
    "    model.add(Dense(size[2], activation='relu', name=\"Hidden3\", kernel_initializer=initializers.RandomNormal(seed = seeds[2]),\n",
    "                   kernel_regularizer=regularizers.L1(L1)))\n",
    "    model.add(Dropout(drop))\n",
    "    model.add(Dense(1, activation=\"linear\", name=\"Output\", kernel_initializer=initializers.RandomNormal(seed = seeds[3])))\n",
    "\n",
    "    #Metodo di stima da utilizzare\n",
    "    model.compile(loss='mean_squared_error', optimizer='Adam', metrics = [\"mean_squared_error\"])\n",
    "    \n",
    "    return model "
   ]
  },
  {
   "cell_type": "code",
   "execution_count": 80,
   "id": "d15030c4-f2b7-4ab0-81c5-54dcc22d1d0f",
   "metadata": {},
   "outputs": [],
   "source": [
    "random.seed(1)\n",
    "np.random.seed(1)\n",
    "tf_set_seed(1)\n",
    "keras.utils.set_random_seed(1)"
   ]
  },
  {
   "cell_type": "code",
   "execution_count": 81,
   "id": "1ce41c56-aaf3-470e-8afb-03a64c2e6985",
   "metadata": {},
   "outputs": [
    {
     "name": "stdout",
     "output_type": "stream",
     "text": [
      "Worked on drop prob 0.1 : 134 epochs\n",
      "Worked on drop prob 0.2 : 109 epochs\n",
      "Worked on drop prob 0.3 : 126 epochs\n",
      "Worked on drop prob 0.4 : 130 epochs\n",
      "Worked on drop prob 0.5 : 109 epochs\n"
     ]
    },
    {
     "data": {
      "text/plain": [
       "[59253776384.0, 61978451968.0, 60574470144.0, 60987428864.0, 66789015552.0]"
      ]
     },
     "execution_count": 81,
     "metadata": {},
     "output_type": "execute_result"
    }
   ],
   "source": [
    "#Let's try to regularized using dropout.\n",
    "#dropPenalties = [i/10 for i in range(1,6)] #The dropout probabilities tried.\n",
    "dropPenalties = [i/10 for i in range(1,6)] #The dropout probabilities tried.\n",
    "dropResults = []\n",
    "\n",
    "seeds = genSeeds(len(dropPenalties))\n",
    "bestEpochs = []\n",
    "\n",
    "\n",
    "for drop in dropPenalties:\n",
    "    model_nn = create_modelDrop([200,200,200],train_set.shape[1] - 1,drop, seeds[dropPenalties.index(drop)])\n",
    "    storia = model_nn.fit(x = train_set.drop(\"prezzo\", axis = 1), y = train_set[\"prezzo\"],\n",
    "                      batch_size = 64 , epochs = 1000,\n",
    "                      validation_data=(validation_set.drop(\"prezzo\", axis = 1),validation_set[\"prezzo\"]), verbose =0,\n",
    "                      callbacks = callbacks.EarlyStopping(monitor =\"val_mean_squared_error\", min_delta =0, patience =10))\n",
    "    print(\"Worked on drop prob\",drop,\":\",len(storia.history[\"val_mean_squared_error\"]) ,\"epochs\")\n",
    "    dropResults.append(min(storia.history[\"val_mean_squared_error\"]))\n",
    "    bestEpochs.append(storia.history[\"val_mean_squared_error\"].index(min(storia.history[\"val_mean_squared_error\"])) + 1)\n",
    "\n",
    "dropResults"
   ]
  },
  {
   "cell_type": "code",
   "execution_count": 95,
   "id": "7fc20d9c-c426-4d7d-8420-1b1be6b8b7d6",
   "metadata": {},
   "outputs": [],
   "source": [
    "#The results don't improve."
   ]
  },
  {
   "cell_type": "markdown",
   "id": "5897c208-1766-403c-99b1-517e5a9829f9",
   "metadata": {},
   "source": [
    "### Possible improvements\n",
    "As was seen, the results are pretty unstable and volatile. The lower error of a model s not necessarily related to it's regulation, but to the starting point and the random stochastic updates. This means the model has some trouble to reach the global minima. This can be resolved through repated estimation."
   ]
  },
  {
   "cell_type": "markdown",
   "id": "a870f6d3-aaaa-44ba-90f1-e2d076e38105",
   "metadata": {},
   "source": [
    "# Results \n",
    "The results of these models are shown in the table below."
   ]
  },
  {
   "cell_type": "code",
   "execution_count": 94,
   "id": "d50f8ee4-73c0-4617-86b7-d6d8e9a9abc7",
   "metadata": {},
   "outputs": [
    {
     "data": {
      "text/html": [
       "<div>\n",
       "<style scoped>\n",
       "    .dataframe tbody tr th:only-of-type {\n",
       "        vertical-align: middle;\n",
       "    }\n",
       "\n",
       "    .dataframe tbody tr th {\n",
       "        vertical-align: top;\n",
       "    }\n",
       "\n",
       "    .dataframe thead th {\n",
       "        text-align: right;\n",
       "    }\n",
       "</style>\n",
       "<table border=\"1\" class=\"dataframe\">\n",
       "  <thead>\n",
       "    <tr style=\"text-align: right;\">\n",
       "      <th></th>\n",
       "      <th>model</th>\n",
       "      <th>R2 test set</th>\n",
       "    </tr>\n",
       "  </thead>\n",
       "  <tbody>\n",
       "    <tr>\n",
       "      <th>0</th>\n",
       "      <td>Linear model (benchmark)</td>\n",
       "      <td>0.680624</td>\n",
       "    </tr>\n",
       "    <tr>\n",
       "      <th>1</th>\n",
       "      <td>Linear model FS</td>\n",
       "      <td>0.676650</td>\n",
       "    </tr>\n",
       "    <tr>\n",
       "      <th>2</th>\n",
       "      <td>RF benchmark</td>\n",
       "      <td>0.738691</td>\n",
       "    </tr>\n",
       "    <tr>\n",
       "      <th>3</th>\n",
       "      <td>RF regulated</td>\n",
       "      <td>0.751167</td>\n",
       "    </tr>\n",
       "    <tr>\n",
       "      <th>4</th>\n",
       "      <td>GB regulated</td>\n",
       "      <td>0.758347</td>\n",
       "    </tr>\n",
       "    <tr>\n",
       "      <th>5</th>\n",
       "      <td>NN L1 pen</td>\n",
       "      <td>0.722502</td>\n",
       "    </tr>\n",
       "  </tbody>\n",
       "</table>\n",
       "</div>"
      ],
      "text/plain": [
       "                      model  R2 test set\n",
       "0  Linear model (benchmark)     0.680624\n",
       "1           Linear model FS     0.676650\n",
       "2              RF benchmark     0.738691\n",
       "3              RF regulated     0.751167\n",
       "4              GB regulated     0.758347\n",
       "5                 NN L1 pen     0.722502"
      ]
     },
     "execution_count": 94,
     "metadata": {},
     "output_type": "execute_result"
    }
   ],
   "source": [
    "modResults"
   ]
  },
  {
   "cell_type": "markdown",
   "id": "11b5bc43-fe8d-4b23-9006-6ba5b8b5cb28",
   "metadata": {},
   "source": [
    "The best model is easily the Random Forest. This is certainly due to the fact it's regularization is closest to the optimal approach, meanwhile the gradient boosting is a bit rougher. As practice, this small project was a success, as it allowed to pratice using Python for regression problems. The best model found, the Random Forest, worked really well in predicting the house price."
   ]
  },
  {
   "cell_type": "markdown",
   "id": "635eac1d-05d5-4e8a-8fd8-44af0bd83043",
   "metadata": {},
   "source": [
    "### Adding house location\n",
    "The next step consists in adding the location of the house to the dataset, and repeating model estimation. This data was added later as it was a bit harder to preprocess, but it's an incredibly valuable information."
   ]
  },
  {
   "cell_type": "code",
   "execution_count": 84,
   "id": "a625c189-bfbd-4d43-aa56-6148db9549ed",
   "metadata": {},
   "outputs": [],
   "source": [
    "#THIS IS A COPY-PASTE OF THE PREPROCESSING ALREADY DONE.\n",
    "houses = pd.read_csv(\"DATA/casemilano.csv\", encoding='unicode_escape')\n",
    "\n",
    "#Missing data will be removed\n",
    "#This leads to lose about 35% of observations, but it must be done, as the variables with missing values are important ones, and cannot be excluded.\n",
    "houses.dropna(inplace=True)\n",
    "houses = houses.reset_index(drop=True)\n",
    "# The features will be cleaned.\n",
    "\n",
    "#Features eliminated\n",
    "houses = houses.drop('w', axis=1) #It's a constant variable\n",
    "houses = houses.drop(\"s\", axis=1) #It's unclear the meaning of the variable\n",
    "#Ascensore recoded.\n",
    "houses.loc[houses[\"ascensore\"] == \"no\", \"ascensore\"] = 0\n",
    "houses.loc[houses[\"ascensore\"] != 0, \"ascensore\"] = 1\n",
    "houses[\"ascensore\"] = houses[\"ascensore\"].astype(bool)\n",
    "#Parking: more than 2 in shared parking space are merged in \"aLotShared\".\n",
    "sharedALot = houses[\"parcheggio\"].value_counts().loc[houses[\"parcheggio\"].value_counts() <=5].index\n",
    "houses.loc[houses[\"parcheggio\"].apply(lotShared),\"parcheggio\"] = \"aLotShared\"\n",
    "houses[\"parcheggio\"] = houses[\"parcheggio\"].astype(str)\n",
    "#Features made character. The dtype remain \"object\"\n",
    "houses[\"numero.bagni\"] = houses[\"numero.bagni\"].astype(str)\n",
    "houses[\"numero.stanze\"] = houses[\"numero.stanze\"].astype(str)\n",
    "\n",
    "#Features made numeric\n",
    "houses.loc[houses[\"numero.totale.piani.edificio\"] == \"1 piano\", \"numero.totale.piani.edificio\"] = 1\n",
    "houses[\"numero.totale.piani.edificio\"] = houses[\"numero.totale.piani.edificio\"].astype(np.int8)\n",
    "#Is the house available or not?\n",
    "houses.loc[houses[\"disponibile\"] == \"disponibile\",\"disponibile\"] = 1\n",
    "houses.loc[houses[\"disponibile\"] != 1,\"disponibile\"] = 0\n",
    "houses[\"disponibile\"] = houses[\"disponibile\"].astype(bool)\n",
    "houses.loc[houses[\"spese.condominiali\"] == \"nessun costo condominiale\", \"spese.condominiali\"] = 0\n",
    "houses[\"spese.condominiali\"] = houses[\"spese.condominiali\"].astype(float)\n",
    "#condizioni has been made made string.\n",
    "houses[\"condizioni\"] = houses[\"condizioni\"].astype(str)\n",
    "houses[\"piano\"] = houses[\"piano\"].astype(str)\n",
    "houses.loc[houses[\"riscaldamento.centralizzato\"] == \"centralizzato\",\"riscaldamento.centralizzato\"] = 1\n",
    "houses.loc[houses[\"riscaldamento.centralizzato\"] == \"indipendente\",\"riscaldamento.centralizzato\"] = 0\n",
    "houses[\"riscaldamento.centralizzato\"] = houses[\"riscaldamento.centralizzato\"].astype(bool)\n",
    "houses[\"classe.di.efficienza.energetica\"] = houses[\"classe.di.efficienza.energetica\"].astype(str)"
   ]
  },
  {
   "cell_type": "code",
   "execution_count": 85,
   "id": "3ce863c5-4a1d-44f8-aae3-00a54d35cdd7",
   "metadata": {},
   "outputs": [
    {
     "data": {
      "text/html": [
       "<div>\n",
       "<style scoped>\n",
       "    .dataframe tbody tr th:only-of-type {\n",
       "        vertical-align: middle;\n",
       "    }\n",
       "\n",
       "    .dataframe tbody tr th {\n",
       "        vertical-align: top;\n",
       "    }\n",
       "\n",
       "    .dataframe thead th {\n",
       "        text-align: right;\n",
       "    }\n",
       "</style>\n",
       "<table border=\"1\" class=\"dataframe\">\n",
       "  <thead>\n",
       "    <tr style=\"text-align: right;\">\n",
       "      <th></th>\n",
       "      <th>prezzo</th>\n",
       "      <th>metri.quadrati</th>\n",
       "      <th>numero.bagni</th>\n",
       "      <th>ascensore</th>\n",
       "      <th>numero.stanze</th>\n",
       "      <th>altre.caratteristiche</th>\n",
       "      <th>numero.totale.piani.edificio</th>\n",
       "      <th>parcheggio</th>\n",
       "      <th>disponibile</th>\n",
       "      <th>spese.condominiali</th>\n",
       "      <th>anno.di. Costruzione</th>\n",
       "      <th>condizioni</th>\n",
       "      <th>zona</th>\n",
       "      <th>piano</th>\n",
       "      <th>riscaldamento.centralizzato</th>\n",
       "      <th>classe.di.efficienza.energetica</th>\n",
       "    </tr>\n",
       "  </thead>\n",
       "  <tbody>\n",
       "    <tr>\n",
       "      <th>0</th>\n",
       "      <td>500000.0</td>\n",
       "      <td>57.0</td>\n",
       "      <td>1</td>\n",
       "      <td>True</td>\n",
       "      <td>2</td>\n",
       "      <td>fibra ottica | videocitofono | sistema d'allar...</td>\n",
       "      <td>7</td>\n",
       "      <td>1 in garage/box</td>\n",
       "      <td>True</td>\n",
       "      <td>0.0</td>\n",
       "      <td>2010.0</td>\n",
       "      <td>eccellente / restaurato</td>\n",
       "      <td>porta romana - medaglie d'oro</td>\n",
       "      <td>1</td>\n",
       "      <td>True</td>\n",
       "      <td>e</td>\n",
       "    </tr>\n",
       "    <tr>\n",
       "      <th>1</th>\n",
       "      <td>395000.0</td>\n",
       "      <td>92.0</td>\n",
       "      <td>1</td>\n",
       "      <td>True</td>\n",
       "      <td>3</td>\n",
       "      <td>cancello elettrico | fibra ottica | videocitof...</td>\n",
       "      <td>8</td>\n",
       "      <td>no</td>\n",
       "      <td>True</td>\n",
       "      <td>200.0</td>\n",
       "      <td>1960.0</td>\n",
       "      <td>eccellente / restaurato</td>\n",
       "      <td>gallaratese</td>\n",
       "      <td>1</td>\n",
       "      <td>True</td>\n",
       "      <td>e</td>\n",
       "    </tr>\n",
       "    <tr>\n",
       "      <th>2</th>\n",
       "      <td>199000.0</td>\n",
       "      <td>38.0</td>\n",
       "      <td>1</td>\n",
       "      <td>False</td>\n",
       "      <td>1</td>\n",
       "      <td>fibra ottica | porta di sicurezza | esposizion...</td>\n",
       "      <td>4</td>\n",
       "      <td>no</td>\n",
       "      <td>True</td>\n",
       "      <td>80.0</td>\n",
       "      <td>1930.0</td>\n",
       "      <td>eccellente / restaurato</td>\n",
       "      <td>navigli - darsena</td>\n",
       "      <td>1</td>\n",
       "      <td>False</td>\n",
       "      <td>g</td>\n",
       "    </tr>\n",
       "    <tr>\n",
       "      <th>3</th>\n",
       "      <td>299000.0</td>\n",
       "      <td>45.0</td>\n",
       "      <td>1</td>\n",
       "      <td>False</td>\n",
       "      <td>1</td>\n",
       "      <td>cancello elettrico | fibra ottica | porta di s...</td>\n",
       "      <td>5</td>\n",
       "      <td>no</td>\n",
       "      <td>True</td>\n",
       "      <td>100.0</td>\n",
       "      <td>1911.0</td>\n",
       "      <td>buone condizioni /vivibile</td>\n",
       "      <td>porta romana - medaglie d'oro</td>\n",
       "      <td>1</td>\n",
       "      <td>True</td>\n",
       "      <td>g</td>\n",
       "    </tr>\n",
       "    <tr>\n",
       "      <th>4</th>\n",
       "      <td>1290000.0</td>\n",
       "      <td>170.0</td>\n",
       "      <td>2</td>\n",
       "      <td>True</td>\n",
       "      <td>4</td>\n",
       "      <td>porta di sicurezza | terrazza | terrazza |port...</td>\n",
       "      <td>6</td>\n",
       "      <td>no</td>\n",
       "      <td>True</td>\n",
       "      <td>500.0</td>\n",
       "      <td>1970.0</td>\n",
       "      <td>buone condizioni /vivibile</td>\n",
       "      <td>de angeli</td>\n",
       "      <td>6</td>\n",
       "      <td>True</td>\n",
       "      <td>g</td>\n",
       "    </tr>\n",
       "  </tbody>\n",
       "</table>\n",
       "</div>"
      ],
      "text/plain": [
       "      prezzo  metri.quadrati numero.bagni  ascensore numero.stanze  \\\n",
       "0   500000.0            57.0            1       True             2   \n",
       "1   395000.0            92.0            1       True             3   \n",
       "2   199000.0            38.0            1      False             1   \n",
       "3   299000.0            45.0            1      False             1   \n",
       "4  1290000.0           170.0            2       True             4   \n",
       "\n",
       "                               altre.caratteristiche  \\\n",
       "0  fibra ottica | videocitofono | sistema d'allar...   \n",
       "1  cancello elettrico | fibra ottica | videocitof...   \n",
       "2  fibra ottica | porta di sicurezza | esposizion...   \n",
       "3  cancello elettrico | fibra ottica | porta di s...   \n",
       "4  porta di sicurezza | terrazza | terrazza |port...   \n",
       "\n",
       "   numero.totale.piani.edificio       parcheggio  disponibile  \\\n",
       "0                             7  1 in garage/box         True   \n",
       "1                             8               no         True   \n",
       "2                             4               no         True   \n",
       "3                             5               no         True   \n",
       "4                             6               no         True   \n",
       "\n",
       "   spese.condominiali  anno.di. Costruzione                  condizioni  \\\n",
       "0                 0.0                2010.0     eccellente / restaurato   \n",
       "1               200.0                1960.0     eccellente / restaurato   \n",
       "2                80.0                1930.0     eccellente / restaurato   \n",
       "3               100.0                1911.0  buone condizioni /vivibile   \n",
       "4               500.0                1970.0  buone condizioni /vivibile   \n",
       "\n",
       "                            zona piano  riscaldamento.centralizzato  \\\n",
       "0  porta romana - medaglie d'oro     1                         True   \n",
       "1                    gallaratese     1                         True   \n",
       "2              navigli - darsena     1                        False   \n",
       "3  porta romana - medaglie d'oro     1                         True   \n",
       "4                      de angeli     6                         True   \n",
       "\n",
       "  classe.di.efficienza.energetica  \n",
       "0                               e  \n",
       "1                               e  \n",
       "2                               g  \n",
       "3                               g  \n",
       "4                               g  "
      ]
     },
     "execution_count": 85,
     "metadata": {},
     "output_type": "execute_result"
    }
   ],
   "source": [
    "houses.head()"
   ]
  },
  {
   "cell_type": "code",
   "execution_count": 86,
   "id": "42db9913-d8b9-4f7c-b3b8-0a55c3c5a6ff",
   "metadata": {},
   "outputs": [],
   "source": [
    "#The \"area\" feature is a bit problematic: it has a lot of unique values, with a lot of them appering only once or twice.\n",
    "#As it is, it's difficult to use in models. A second dataset will be used: \"mappe.xlsx\", which contains the geographical coordinates\n",
    "# of the \"area\".\n",
    "mappe = pd.read_excel('DATA/mappe.xlsx')"
   ]
  },
  {
   "cell_type": "code",
   "execution_count": 87,
   "id": "ac30e285-0869-4efa-9ac2-e161ce77390f",
   "metadata": {},
   "outputs": [
    {
     "data": {
      "text/html": [
       "<div>\n",
       "<style scoped>\n",
       "    .dataframe tbody tr th:only-of-type {\n",
       "        vertical-align: middle;\n",
       "    }\n",
       "\n",
       "    .dataframe tbody tr th {\n",
       "        vertical-align: top;\n",
       "    }\n",
       "\n",
       "    .dataframe thead th {\n",
       "        text-align: right;\n",
       "    }\n",
       "</style>\n",
       "<table border=\"1\" class=\"dataframe\">\n",
       "  <thead>\n",
       "    <tr style=\"text-align: right;\">\n",
       "      <th></th>\n",
       "      <th>città</th>\n",
       "      <th>zona</th>\n",
       "      <th>Latitudine</th>\n",
       "      <th>Longitudine</th>\n",
       "    </tr>\n",
       "  </thead>\n",
       "  <tbody>\n",
       "    <tr>\n",
       "      <th>0</th>\n",
       "      <td>Milano</td>\n",
       "      <td>affori</td>\n",
       "      <td>45.515798</td>\n",
       "      <td>9.172310</td>\n",
       "    </tr>\n",
       "    <tr>\n",
       "      <th>1</th>\n",
       "      <td>Milano</td>\n",
       "      <td>amendola - buonarroti</td>\n",
       "      <td>45.473562</td>\n",
       "      <td>9.151326</td>\n",
       "    </tr>\n",
       "    <tr>\n",
       "      <th>2</th>\n",
       "      <td>Milano</td>\n",
       "      <td>arco della pace</td>\n",
       "      <td>45.475693</td>\n",
       "      <td>9.172451</td>\n",
       "    </tr>\n",
       "    <tr>\n",
       "      <th>3</th>\n",
       "      <td>Milano</td>\n",
       "      <td>arena</td>\n",
       "      <td>45.477031</td>\n",
       "      <td>9.178221</td>\n",
       "    </tr>\n",
       "    <tr>\n",
       "      <th>4</th>\n",
       "      <td>Milano</td>\n",
       "      <td>argonne - corsica</td>\n",
       "      <td>45.463586</td>\n",
       "      <td>9.233394</td>\n",
       "    </tr>\n",
       "  </tbody>\n",
       "</table>\n",
       "</div>"
      ],
      "text/plain": [
       "    città                   zona  Latitudine  Longitudine\n",
       "0  Milano                 affori   45.515798     9.172310\n",
       "1  Milano  amendola - buonarroti   45.473562     9.151326\n",
       "2  Milano        arco della pace   45.475693     9.172451\n",
       "3  Milano                  arena   45.477031     9.178221\n",
       "4  Milano      argonne - corsica   45.463586     9.233394"
      ]
     },
     "execution_count": 87,
     "metadata": {},
     "output_type": "execute_result"
    }
   ],
   "source": [
    "mappe.head()"
   ]
  },
  {
   "cell_type": "code",
   "execution_count": 88,
   "id": "f9b40207-d80e-4e65-856d-88664e9aafaa",
   "metadata": {},
   "outputs": [],
   "source": [
    "#For each house, I need to get it's coordinates from \"mappe.xlxs\".\n",
    "def getCoord(zona):\n",
    "    if mappe.loc[mappe[\"zona\"] == zona,[\"Latitudine\",\"Longitudine\"]].shape[0] == 0:\n",
    "        return [np.NaN, np.NaN]\n",
    "    return list(mappe.loc[mappe[\"zona\"] == zona,[\"Latitudine\",\"Longitudine\"]].iloc[0])\n"
   ]
  },
  {
   "cell_type": "code",
   "execution_count": 89,
   "id": "aa1464f4-e6e6-4e31-aa50-f1c63311335a",
   "metadata": {},
   "outputs": [],
   "source": [
    "#The \"città studi\" area is weirdly coded, so this fixes the issue.\n",
    "condition = [zona.startswith(\"citt\") for zona in mappe[\"zona\"]]\n",
    "mappe.loc[condition, \"zona\"] = \"città studi\""
   ]
  },
  {
   "cell_type": "code",
   "execution_count": 90,
   "id": "2a1773d0-2190-4bc4-ace3-84d69ff3ddf0",
   "metadata": {},
   "outputs": [],
   "source": [
    "condition = [zona.startswith(\"citt\") for zona in houses[\"zona\"]]\n",
    "houses.loc[condition, \"zona\"] = \"città studi\""
   ]
  },
  {
   "cell_type": "code",
   "execution_count": 91,
   "id": "48636b07-77bf-45d6-8a22-cf77cca6e99e",
   "metadata": {},
   "outputs": [],
   "source": [
    "zone = pd.DataFrame({\"house zone\":houses[\"zona\"],\n",
    "                    \"Latitudine\":np.full(shape=houses.shape[0], fill_value=np.nan),\n",
    "                    \"Longitudine\":np.full(shape=houses.shape[0], fill_value=np.nan)})\n",
    "for house in range(0,houses.shape[0]):\n",
    "    zone.iloc[house, [1,2]] = getCoord(houses[\"zona\"].iloc[house])"
   ]
  },
  {
   "cell_type": "code",
   "execution_count": 92,
   "id": "45781825-953c-4889-9b21-873277cb4e9e",
   "metadata": {},
   "outputs": [],
   "source": [
    "houses[[\"Latitudine\",\"Longitudine\"]] = zone[[\"Latitudine\",\"Longitudine\"]]"
   ]
  },
  {
   "cell_type": "code",
   "execution_count": 93,
   "id": "2d8b5506-d94e-4567-8241-6b2e1cd33714",
   "metadata": {},
   "outputs": [],
   "source": [
    "houses = houses.drop([\"altre.caratteristiche\",\"zona\"], axis = 1)"
   ]
  },
  {
   "cell_type": "code",
   "execution_count": 96,
   "id": "9434eaa8-bb06-4c4c-9c54-bfeefec55568",
   "metadata": {},
   "outputs": [],
   "source": [
    "data = houses"
   ]
  },
  {
   "cell_type": "markdown",
   "id": "b894b405-e941-41d4-841d-d6e05f1ec166",
   "metadata": {},
   "source": [
    "Now all the code can be used again to find another model that works better in predicting the house price."
   ]
  },
  {
   "cell_type": "markdown",
   "id": "e84fa453-78bd-481c-8a95-72b1b9645314",
   "metadata": {},
   "source": [
    "The R2 of the Random Forest, the model that worked best before, has incresed by abount a 10\\%, a huge improvement in prediction accuracy."
   ]
  }
 ],
 "metadata": {
  "kernelspec": {
   "display_name": "MLenv",
   "language": "python",
   "name": "mlenv"
  },
  "language_info": {
   "codemirror_mode": {
    "name": "ipython",
    "version": 3
   },
   "file_extension": ".py",
   "mimetype": "text/x-python",
   "name": "python",
   "nbconvert_exporter": "python",
   "pygments_lexer": "ipython3",
   "version": "3.12.1"
  }
 },
 "nbformat": 4,
 "nbformat_minor": 5
}
